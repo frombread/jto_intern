{
 "cells": [
  {
   "attachments": {},
   "cell_type": "markdown",
   "metadata": {},
   "source": [
    "# 제주도청불편 크롤링"
   ]
  },
  {
   "cell_type": "code",
   "execution_count": 1,
   "metadata": {},
   "outputs": [],
   "source": [
    "from selenium import webdriver\n",
    "from selenium.webdriver.common.by import By\n",
    "from selenium.webdriver.support import expected_conditions as EC\n",
    "from selenium.webdriver.support.ui import WebDriverWait\n",
    "from selenium.common.exceptions import NoSuchElementException, StaleElementReferenceException, TimeoutException\n",
    "import pandas as pd\n",
    "df = pd.read_csv(r'C:\\Users\\user\\Desktop\\제주.csv',encoding='cp949')\n",
    "\n",
    "\n",
    "options = webdriver.ChromeOptions()\n",
    "options.add_experimental_option(\"detach\",True)\n",
    "options.add_experimental_option(\"excludeSwitches\", ['enable-logging'])\n",
    "url = \"https://www.jeju.go.kr/online/hotline/minwon.htm?page=258\"\n",
    "\n",
    "browser = webdriver.Chrome(chrome_options=options, executable_path=r\"C:\\Users\\user\\Desktop\\chromedriver_win32\\chromedriver.exe\")\n",
    "browser.get(url)\n",
    "browser.maximize_window()\n",
    "\n",
    "WebDriverWait(browser,30).until(EC.element_to_be_clickable((By.XPATH,\".//ul[@class='pagination pagination-sm']/li[1]/a\"))).click()\n",
    "\n",
    "max_index = browser.find_element(By.XPATH,\"//ul[@class='pagination pagination-sm']/li[12]/a\").get_attribute(\"textContent\")\n",
    "\n",
    "first_index = 1\n",
    "for i in range(86,int(max_index)+1):\n",
    "    url = \"https://www.jeju.go.kr/online/hotline/minwon.htm?page={}\".format(str(i))\n",
    "    browser.get(url)\n",
    "    main_table = browser.find_element(By.XPATH,\"//tbody[@id='articleList']\")\n",
    "    All_obj = main_table.find_elements(By.XPATH,\"//td[@class='title']\")\n",
    "\n",
    "    except_list=[]\n",
    "    for obj in All_obj:\n",
    "        if len(obj.find_elements(By.XPATH,\".//i[@class='fa fa-lock icon-lock']\")) > 0:\n",
    "            pass\n",
    "        else:\n",
    "            obj.find_element(By.XPATH,\".//a\").click()\n",
    "            if  len(browser.find_elements(By.XPATH,\".//*[@id='sub-contents']/div[2]/div/table[2]/tbody/tr[2]/td\")) == 0:\n",
    "                title = browser.find_element(By.XPATH,\".//tbody/tr[1]/td\").get_attribute(\"textContent\").replace('\\t','').replace('\\n','')\n",
    "                date = browser.find_element(By.XPATH,\".//tbody/tr[2]/td[2]\").get_attribute(\"textContent\")\n",
    "                department = browser.find_element(By.XPATH,\".//tbody/tr[4]/td\").get_attribute(\"textContent\").replace('\\t','').replace('\\n','')\n",
    "                text = browser.find_element(By.XPATH,\".//td[@class='article-contents left']\").get_attribute(\"textContent\").replace('\\t','').replace('\\n','')\n",
    "                R_text=0\n",
    "            else:\n",
    "                title = browser.find_element(By.XPATH,\".//tbody/tr[1]/td\").get_attribute(\"textContent\").replace('\\t','').replace('\\n','')\n",
    "                date = browser.find_element(By.XPATH,\".//tbody/tr[2]/td[2]\").get_attribute(\"textContent\")\n",
    "                department = browser.find_element(By.XPATH,\".//tbody/tr[4]/td\").get_attribute(\"textContent\").replace('\\t','').replace('\\n','')\n",
    "                text = browser.find_element(By.XPATH,\".//td[@class='article-contents left']\").get_attribute(\"textContent\").replace('\\t','').replace('\\n','')\n",
    "                R_text=browser.find_element(By.XPATH,\".//*[@id='sub-contents']/div[2]/div/table[2]/tbody/tr[2]/td\").get_attribute(\"textContent\").replace('\\t','').replace('\\n','')\n",
    "            \n",
    "            \n",
    "            df.loc[first_index,'제목'] = title\n",
    "            df.loc[first_index,'날짜'] = date\n",
    "            df.loc[first_index,'부서'] = department\n",
    "            df.loc[first_index,'내용'] = text\n",
    "            df.loc[first_index,'답변'] = R_text\n",
    "            first_index +=1\n",
    "            \n",
    "            browser.back()\n",
    "        \n"
   ]
  },
  {
   "cell_type": "code",
   "execution_count": 104,
   "metadata": {},
   "outputs": [],
   "source": [
    "df.to_csv(r'C:\\Users\\user\\Desktop\\제주1.csv.csv', encoding=\"utf-8-sig\",index=False)"
   ]
  },
  {
   "attachments": {},
   "cell_type": "markdown",
   "metadata": {},
   "source": [
    "# 답변 추가"
   ]
  },
  {
   "cell_type": "code",
   "execution_count": null,
   "metadata": {},
   "outputs": [],
   "source": [
    "from selenium import webdriver\n",
    "from selenium.webdriver.common.by import By\n",
    "from selenium.webdriver.support import expected_conditions as EC\n",
    "from selenium.webdriver.support.ui import WebDriverWait\n",
    "import pandas as pd\n",
    "df = pd.read_csv(r'C:\\Users\\user\\Desktop\\제주.csv',encoding='cp949')\n",
    "\n",
    "\n",
    "options = webdriver.ChromeOptions()\n",
    "options.add_experimental_option(\"detach\",True) # 브라우저 종료 되고 싶지 않을때\n",
    "options.add_experimental_option(\"excludeSwitches\", ['enable-logging']) # 불필요한 에러메세지 없애기\n",
    "url = \"https://www.jeju.go.kr/online/hotline/minwon.htm?page=258\"\n",
    "\n",
    "browser = webdriver.Chrome(chrome_options=options, executable_path=r\"C:\\Users\\user\\Desktop\\chromedriver_win32\\chromedriver.exe\")\n",
    "browser.get(url)\n",
    "browser.maximize_window()\n",
    "\n",
    "WebDriverWait(browser,30).until(EC.element_to_be_clickable((By.XPATH,\".//ul[@class='pagination pagination-sm']/li[1]/a\"))).click()\n",
    "\n",
    "max_index = browser.find_element(By.XPATH,\"//ul[@class='pagination pagination-sm']/li[12]/a\").get_attribute(\"textContent\")\n",
    "first_index = 1\n",
    "\n",
    "for i in range(1,int(max_index)+1):\n",
    "    url = \"https://www.jeju.go.kr/online/hotline/minwon.htm?page={}\".format(str(i))\n",
    "    browser.get(url)\n",
    "    main_table = browser.find_element(By.XPATH,\"//tbody[@id='articleList']\")\n",
    "\n",
    "\n",
    "    All_obj = main_table.find_elements(By.XPATH,\"//td[@class='title']\")\n",
    "\n",
    "    except_list=[]#왜넣었지?\n",
    "    \n",
    "    for obj in All_obj:\n",
    "        if len(obj.find_elements(By.XPATH,\".//i[@class='fa fa-lock icon-lock']\")) > 0:\n",
    "            pass\n",
    "        else:\n",
    "            obj.find_element(By.XPATH,\".//a\").click()\n",
    "            if  len(browser.find_elements(By.XPATH,\".//*[@id='sub-contents']/div[2]/div/table[2]/tbody/tr[1]/td[1]\")) == 0:\n",
    "                title = browser.find_element(By.XPATH,\".//tbody/tr[1]/td\").get_attribute(\"textContent\").replace('\\t','').replace('\\n','')\n",
    "                date = browser.find_element(By.XPATH,\".//tbody/tr[2]/td[2]\").get_attribute(\"textContent\")\n",
    "                department = browser.find_element(By.XPATH,\".//tbody/tr[4]/td\").get_attribute(\"textContent\").replace('\\t','').replace('\\n','')\n",
    "                text = browser.find_element(By.XPATH,\".//td[@class='article-contents left']\").get_attribute(\"textContent\").replace('\\t','').replace('\\n','')\n",
    "                R_text_o = 0\n",
    "                R_text=0\n",
    "            else:\n",
    "                title = browser.find_element(By.XPATH,\".//tbody/tr[1]/td\").get_attribute(\"textContent\").replace('\\t','').replace('\\n','')\n",
    "                date = browser.find_element(By.XPATH,\".//tbody/tr[2]/td[2]\").get_attribute(\"textContent\")\n",
    "                department = browser.find_element(By.XPATH,\".//tbody/tr[4]/td\").get_attribute(\"textContent\").replace('\\t','').replace('\\n','')\n",
    "                text = browser.find_element(By.XPATH,\".//td[@class='article-contents left']\").get_attribute(\"textContent\").replace('\\t','').replace('\\n','')\n",
    "                R_text=browser.find_element(By.XPATH,\".//*[@id='sub-contents']/div[2]/div/table[2]/tbody/tr[2]/td\").get_attribute(\"textContent\").replace('\\t','').replace('\\n','')\n",
    "                R_text_o=browser.find_element(By.XPATH,\".//*[@id='sub-contents']/div[2]/div/table[2]/tbody/tr[1]/td[1]\").get_attribute(\"textContent\").replace('\\t','').replace('\\n','')\n",
    "\n",
    "            df.loc[first_index,'제목'] = title\n",
    "            df.loc[first_index,'날짜'] = date\n",
    "            df.loc[first_index,'부서'] = department\n",
    "            df.loc[first_index,'내용'] = text\n",
    "            df.loc[first_index,'답변'] = R_text\n",
    "            df.loc[first_index,'부서'] = R_text_o\n",
    "\n",
    "            first_index +=1\n",
    "            \n",
    "            browser.back()\n",
    "        \n"
   ]
  },
  {
   "cell_type": "code",
   "execution_count": null,
   "metadata": {},
   "outputs": [],
   "source": [
    "df.to_csv(r'C:\\Users\\user\\Desktop\\제주1.csv.csv', encoding=\"utf-8-sig\",index=False)"
   ]
  }
 ],
 "metadata": {
  "kernelspec": {
   "display_name": "Python 3.9.12 ('base')",
   "language": "python",
   "name": "python3"
  },
  "language_info": {
   "codemirror_mode": {
    "name": "ipython",
    "version": 3
   },
   "file_extension": ".py",
   "mimetype": "text/x-python",
   "name": "python",
   "nbconvert_exporter": "python",
   "pygments_lexer": "ipython3",
   "version": "3.9.12"
  },
  "orig_nbformat": 4,
  "vscode": {
   "interpreter": {
    "hash": "ad2bdc8ecc057115af97d19610ffacc2b4e99fae6737bb82f5d7fb13d2f2c186"
   }
  }
 },
 "nbformat": 4,
 "nbformat_minor": 2
}
