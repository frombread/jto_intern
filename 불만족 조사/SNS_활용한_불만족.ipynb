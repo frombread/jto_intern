{
 "cells": [
  {
   "attachments": {},
   "cell_type": "markdown",
   "metadata": {},
   "source": [
    "# SNS 데이터를 활용한 불만족 리뷰 찾기"
   ]
  },
  {
   "cell_type": "code",
   "execution_count": 1,
   "metadata": {},
   "outputs": [],
   "source": [
    "import pandas as pd\n",
    "from konlpy.tag import Okt\n",
    "import re\n",
    "from pykospacing import Spacing\n",
    "spacing = Spacing()\n",
    "df1= pd.read_csv(r'C:\\Users\\user\\Desktop\\제주 관광 키워드 데이터(2022)\\키워드\\JT_SNS_KWRD_LIST_202206.csv',encoding='utf-8-sig')\n",
    "df2= pd.read_csv(r'C:\\Users\\user\\Desktop\\제주 관광 키워드 데이터(2022)\\키워드\\JT_SNS_KWRD_LIST_202207.csv',encoding='utf-8-sig')\n",
    "df3= pd.read_csv(r'C:\\Users\\user\\Desktop\\제주 관광 키워드 데이터(2022)\\키워드\\JT_SNS_KWRD_LIST_202208.csv',encoding='utf-8-sig')\n",
    "df=pd.concat([df1,df2,df3])\n",
    "df[\"ALL_KWRD_CN\"]=df[\"ALL_KWRD_CN\"].fillna(0)\n",
    "df[\"NTCE_CN\"]=df[\"NTCE_CN\"].fillna(0)\n"
   ]
  },
  {
   "cell_type": "code",
   "execution_count": null,
   "metadata": {},
   "outputs": [],
   "source": [
    "b=pd.DataFrame()\n",
    "ad=pd.DataFrame()\n",
    "fin=pd.DataFrame()\n",
    "b=df[\"ALL_KWRD_CN\"].str.split('/',expand=True)\n",
    "for i in b.iloc[:0]:\n",
    "    a=b[i]\n",
    "    ad[\"0\"]=a.values\n",
    "    fin = fin.append(ad)\n",
    "fin[\"count\"]=0"
   ]
  },
  {
   "cell_type": "code",
   "execution_count": null,
   "metadata": {},
   "outputs": [],
   "source": [
    "fin1=fin.groupby(\"0\").count()\n",
    "fin1=fin1.reset_index()\n",
    "fin1=fin1.sort_values(by=\"count\",ascending=False)\n",
    "fin1.reset_index(inplace=True)\n",
    "fin1=fin1.drop('index', axis=1)"
   ]
  },
  {
   "cell_type": "code",
   "execution_count": 14,
   "metadata": {},
   "outputs": [],
   "source": [
    "df1=df.groupby(\"NTCE_CN\").count()\n",
    "df1=df1.reset_index()\n",
    "df1[\"NTCE_CN\"] =df1[\"NTCE_CN\"].dropna()"
   ]
  },
  {
   "attachments": {},
   "cell_type": "markdown",
   "metadata": {},
   "source": [
    "# 띄어쓰기 구분"
   ]
  },
  {
   "cell_type": "code",
   "execution_count": 16,
   "metadata": {},
   "outputs": [],
   "source": [
    "def preprocessing(review, okt, remove_stopwords = False, stop_words =[]):\n",
    "  \n",
    "  review_spacing = spacing(review) ## 띄어쓰기 안한거  하기\n",
    "  review_text = re.sub('[^가-힣ㄱ-ㅎㅏ-ㅣ\\\\s]','',review_spacing)\n",
    "  word_review = okt.morphs(review_text,stem=True)\n",
    "  \n",
    "  if remove_stopwords:\n",
    "    word_review = [token for token in word_review if not token in stop_words]\n",
    "  return word_review"
   ]
  },
  {
   "attachments": {},
   "cell_type": "markdown",
   "metadata": {},
   "source": [
    "# 텍스트 마이닝"
   ]
  },
  {
   "cell_type": "code",
   "execution_count": 23,
   "metadata": {},
   "outputs": [
    {
     "data": {
      "text/plain": [
       "[[], [], [], []]"
      ]
     },
     "execution_count": 23,
     "metadata": {},
     "output_type": "execute_result"
    }
   ],
   "source": [
    "stop_words = ['은','는','이','가','하','아','것','들','의','있','되','수','보','주','등','한']\n",
    "okt = Okt()\n",
    "clean_train_review = []\n",
    "for review in test_list['NTCE_CN']:\n",
    "  if type(review) == str:\n",
    "    clean_train_review.append(preprocessing(review,okt,remove_stopwords=True,stop_words= stop_words))\n",
    "  else:\n",
    "    clean_train_review.append([])\n",
    "clean_train_review[:4]"
   ]
  },
  {
   "attachments": {},
   "cell_type": "markdown",
   "metadata": {},
   "source": [
    "# 앞뒤로 포함한 단어찾기"
   ]
  },
  {
   "cell_type": "code",
   "execution_count": 3,
   "metadata": {},
   "outputs": [],
   "source": [
    "def bad_keword(review_list,key_word,value_word):\n",
    "    finnal_list=[]\n",
    "    real_fin =[]\n",
    "    count =0\n",
    "    for review in range(len(review_list)):\n",
    "        for indx in range(len(review_list[review])):\n",
    "            for key in key_word:\n",
    "                if key in review_list[review][indx]:\n",
    "                    for word in value_word:\n",
    "                        if 3 <= indx < len(review_list[review])-3:\n",
    "                            if word in review_list[review][indx+1]:\n",
    "                                count += 1\n",
    "                                continue\n",
    "\n",
    "                            elif word in review_list[review][indx+2]:\n",
    "                                count += 1 \n",
    "                                continue\n",
    "\n",
    "                            elif word in review_list[review][indx-1]:\n",
    "                                count += 1\n",
    "                                continue\n",
    "\n",
    "                            elif word in review_list[review][indx-2]:\n",
    "                                count += 1\n",
    "                                continue\n",
    "\n",
    "                            elif word in review_list[review][indx-3]:\n",
    "                                count += 1\n",
    "                                continue\n",
    "                            \n",
    "                            elif word in review_list[review][indx+3]:\n",
    "                                count += 1\n",
    "                                continue\n",
    "                else:\n",
    "                    pass            \n",
    "    print(count)"
   ]
  },
  {
   "cell_type": "code",
   "execution_count": 4,
   "metadata": {},
   "outputs": [],
   "source": [
    "price_word =  ['비싸','바가지','돌아','과잉','비싸','나쁘','사악','비효율','부담','거품','초과','의문','가격대비']\n",
    "\n",
    "bad_word = ['아쉽','환승','아쉬','최악','주차','차','나쁘','빡치','비추','별로','엉망','실망','불친절','문제','컴플레인','거지','그닥','그다지','불편','개판','기사','싸가지','짜증','화']\n",
    "tast_Bad = ['없다','맛없다','최악','노맛']                \n",
    "bus_time = ['배차','간격','안옴','안온','기다','환승']\n",
    "volumn_word = ['적다','작다','아쉽']\n",
    "clean_word =['낙후','위생','더러','더럽','지저분']\n",
    "refund_word = ['환불','취소','수수료','예약']\n",
    "waitting_word = ['웨이팅','대기','길다','지겹','지겨','기다']\n",
    "\n",
    "volumn_word2 = ['많','지저분','중국']\n",
    "clean =['인원제한']"
   ]
  },
  {
   "cell_type": "code",
   "execution_count": 5,
   "metadata": {},
   "outputs": [],
   "source": [
    "taxi=['택시','택시기사','택시요금']\n",
    "bus=[\"버스\",'버스정류장','버스기사']\n",
    "rental=[\"렌터\",\"렌트\"]\n",
    "covid19=['코로나']\n",
    "else1=['개','동물','말','비둘기','까마귀','여행사','단체','패키지']\n",
    "Gar=['물가']\n",
    "gar2 = ['경비','비용']\n",
    "aa=['공용주차장','공중화장실','편의점','상점']\n",
    "domi = ['호텔','숙소','게하','게스트하우스','그랜드','숙박','4성','리조트','풀빌라','에어','리조트']\n",
    "Food1= ['음식','식당','흑돼지','고기','회','밥','카페','커피','음료','맛집','시장']\n",
    "facility=['한라산','올레길','숲','박물관','파크','뮤지엄','정원','체험','해수','바다','해변','해안']"
   ]
  },
  {
   "cell_type": "code",
   "execution_count": null,
   "metadata": {},
   "outputs": [],
   "source": [
    "bad_keword(last_list,bus,waitting_word)"
   ]
  }
 ],
 "metadata": {
  "kernelspec": {
   "display_name": "Python 3.9.12 ('base')",
   "language": "python",
   "name": "python3"
  },
  "language_info": {
   "codemirror_mode": {
    "name": "ipython",
    "version": 3
   },
   "file_extension": ".py",
   "mimetype": "text/x-python",
   "name": "python",
   "nbconvert_exporter": "python",
   "pygments_lexer": "ipython3",
   "version": "3.9.12 (main, Apr  4 2022, 05:22:27) [MSC v.1916 64 bit (AMD64)]"
  },
  "orig_nbformat": 4,
  "vscode": {
   "interpreter": {
    "hash": "ad2bdc8ecc057115af97d19610ffacc2b4e99fae6737bb82f5d7fb13d2f2c186"
   }
  }
 },
 "nbformat": 4,
 "nbformat_minor": 2
}
