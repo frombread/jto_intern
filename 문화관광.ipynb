{
 "cells": [
  {
   "cell_type": "code",
   "execution_count": null,
   "metadata": {},
   "outputs": [],
   "source": [
    "import pandas as pd\n",
    "card_07= pd.read_csv(r'C:\\Users\\user\\Desktop\\카드 데이터\\card_data\\2022 정제\\creaditcard_P_2022_07.csv',encoding='cp949')\n",
    "card_09= pd.read_csv(r'C:\\Users\\user\\Desktop\\카드 데이터\\card_data\\2022 정제\\creaditcard_P_2022_09.csv',encoding='cp949')\n",
    "card_08= pd.read_csv(r'C:\\Users\\user\\Desktop\\카드 데이터\\card_data\\2022 정제\\creaditcard_P_2022_08.csv',encoding='cp949')\n",
    "card_F_09= pd.read_csv(r'C:\\Users\\user\\Desktop\\카드 데이터\\card_data\\2022 정제\\외국인\\creaditcard_F_2022_09.csv',encoding='cp949')\n",
    "card_F_08= pd.read_csv(r'C:\\Users\\user\\Desktop\\카드 데이터\\card_data\\2022 정제\\외국인\\creaditcard_F_2022_08.csv',encoding='cp949')\n",
    "card_F_07= pd.read_csv(r'C:\\Users\\user\\Desktop\\카드 데이터\\card_data\\2022 정제\\외국인\\creaditcard_F_2022_07.csv',encoding='cp949')\n",
    "#df= pd.read_csv(r'C:\\Users\\user\\Desktop\\카드 데이터\\card_data\\2022 정제\\외국인\\creditcard_F_2019.csv',encoding='cp949')\n",
    "\n",
    "#df = pd.read_csv(r'C:\\Users\\user\\Desktop\\카드 데이터\\card_data\\2019 정제\\creaditcard_P_2019.csv',encoding='cp949')\n",
    "#df = pd.read_csv(r'C:\\Users\\user\\Desktop\\카드 데이터\\card_data\\2020 정제\\creaditcard_P_2020.csv',encoding='cp949')\n",
    "\n",
    "\n",
    "#df=pd.concat([card_07,card_08,card_09])\n",
    "\n",
    "df=pd.concat([card_F_09,card_F_08,card_F_07])\n",
    "df=df.reset_index()"
   ]
  },
  {
   "cell_type": "code",
   "execution_count": null,
   "metadata": {},
   "outputs": [],
   "source": [
    "restauran =[561,5611,56111,56112,56113,56114,56119,5619,56191,\n",
    "                     56192,56193,56194,56199,56211,56212,562,5621,56211,56212,56219,5622,56220]\n",
    "\n",
    "art=[912,9022,90221,90222,9023,90231,90232,9112,91121,91136,9121,91210,9122,91221,\n",
    "      91222,91223,91229,9123,91231,91239,9124,91241,91249,9129,91291,91292,91293,91299]\n",
    "\n",
    "etc = [69110,752,7521,75211,75212,7529,75290,9611,96111,96112,96113,96119,9612,96121,96122,96129]\n",
    "\n",
    "accommodation =[51,5511,55111,55112,55113,55114,55119, 55909]\n",
    "\n",
    "retail=[47,471,4711,47111,47119,4712,47121,47122,47129,47130,4719,47190,472,4721,47211,47212,47213,47214,47215,\n",
    "            47216,47219,4722,47221,47222,4771,47711,47712,4784,47841,47842]"
   ]
  },
  {
   "attachments": {},
   "cell_type": "markdown",
   "metadata": {},
   "source": [
    "# 내국인"
   ]
  },
  {
   "cell_type": "code",
   "execution_count": null,
   "metadata": {},
   "outputs": [],
   "source": [
    "df1=pd.DataFrame()\n",
    "WW=WW.iloc[:,0]\n",
    "for i in list(WW):\n",
    "    b=df[df[\"BLK\"].values==i].index\n",
    "    a=b.values\n",
    "    list4 = a.tolist()\n",
    "    for a in list4:\n",
    "        df1.append(df.iloc[a,:])\n",
    "#격자"
   ]
  },
  {
   "cell_type": "code",
   "execution_count": null,
   "metadata": {},
   "outputs": [],
   "source": [
    "def industry(data,input):\n",
    "    data=data.iloc[:,2:]\n",
    "    domestic=data[data[\"TOUR_GB\"] == \"%s\"%input].index\n",
    "    data2=data.drop(domestic)\n",
    "    \n",
    "    data4 =data2.groupby(['TA_YM','IDCS_CD']).sum()\n",
    "    data4=data4.reset_index()\n",
    "\n",
    "\n",
    "    for i in data4.iloc[:,1]:\n",
    "        if i in restauran:\n",
    "            data4[\"IDCS_CD\"] = data4[\"IDCS_CD\"].replace(i, \"restauran\")\n",
    "        elif i in art:\n",
    "            data4[\"IDCS_CD\"] = data4[\"IDCS_CD\"].replace(i, \"art\")\n",
    "        elif i in etc:\n",
    "            data4[\"IDCS_CD\"] = data4[\"IDCS_CD\"].replace(i, \"etc\")\n",
    "        elif i in accommodation:\n",
    "            data4[\"IDCS_CD\"] = data4[\"IDCS_CD\"].replace(i, \"accommodation\")\n",
    "        elif i in retail:\n",
    "            data4[\"IDCS_CD\"] = data4[\"IDCS_CD\"].replace(i, \"retail\")    \n",
    "    \n",
    "    \n",
    "    data4 =data4[['TA_YM','IDCS_CD','AMT_CORR']]\n",
    "    na=data4[(data4[\"IDCS_CD\"] != \"restauran\") & (data4[\"IDCS_CD\"] != \"art\")&\n",
    "        (data4[\"IDCS_CD\"] != \"etc\")&(data4[\"IDCS_CD\"] != \"accommodation\")&(data4[\"IDCS_CD\"] != \"retail\")].index\n",
    "    data4=data4.drop(na)\n",
    "\n",
    "    YM=data4[\"TA_YM\"].drop_duplicates()\n",
    "    IDCS=data4[\"IDCS_CD\"].drop_duplicates()\n",
    "    \n",
    "    fin_CO=pd.DataFrame()\n",
    "    fin_CO[\"연도\"]=YM\n",
    "    for year in YM:\n",
    "        for word in IDCS:\n",
    "            if len(data4[(data4[\"TA_YM\"]==year) |data4[\"IDCS_CD\"]==word]) > 0:\n",
    "                pass\n",
    "            elif len(data4[(data4[\"TA_YM\"]==year) |data4[\"IDCS_CD\"]==word]) == 0:\n",
    "                small_s = {year: (year,\"%s\" %word,0)}\n",
    "            for col,ro in small_s.items():\n",
    "                data4.loc[col] = ro\n",
    "                data4=data4.sort_values(by=['TA_YM'])\n",
    "                data4=data4.reset_index(drop=True)\n",
    "\n",
    "    for a in IDCS:\n",
    "        fin_CO.loc[:,\"%s\" %a]= data4[data4[\"IDCS_CD\"]== \"%s\" %a].groupby(['TA_YM'])[\"AMT_CORR\"].sum().values\n",
    "    #for i,j in zip(list1,list2):\n",
    "    #    fin_CO.loc[:,\"%s\"%i]=df4[df4[\"IDCS_CD\"]== \"%s\"%j].groupby(['TA_YM'])[\"USECT_CORR\"].sum().values\n",
    "\n",
    "\n",
    "    fin_CO.to_csv('C:\\\\Users\\\\user\\\\Desktop\\\\삼다 %s 뺀거.csv'%input ,encoding='cp949')\n",
    "    \n",
    "\n",
    "industry(df1,input=\"도민\")"
   ]
  },
  {
   "attachments": {},
   "cell_type": "markdown",
   "metadata": {},
   "source": [
    "# 외국인"
   ]
  },
  {
   "cell_type": "code",
   "execution_count": null,
   "metadata": {},
   "outputs": [],
   "source": [
    "df1=df[(df[\"M_DONG_NM\"]==\"연동\")]\n",
    "df2= df1[(df1[\"TA_YM\"]==201908)|(df1[\"TA_YM\"]==201909)|(df1[\"TA_YM\"]==201907)]"
   ]
  },
  {
   "cell_type": "code",
   "execution_count": null,
   "metadata": {},
   "outputs": [],
   "source": [
    "def industry(data):\n",
    "    data=data.iloc[:,2:]\n",
    "\n",
    "    data3 =data.groupby([\"TA_YM\",'IDCS_CD']).sum()\n",
    "    data3=data3.reset_index()\n",
    "    data4 =data3[[\"TA_YM\",'IDCS_CD',\"AMT_CORR\"]]\n",
    "    \n",
    "    for i in data4.iloc[:,1]:\n",
    "        if i in restauran:\n",
    "            data4[\"IDCS_CD\"] = data4[\"IDCS_CD\"].replace(i, \"restauran\")\n",
    "        #elif i in transport:\n",
    "        #    data4[\"IDCS_CD\"] = data4[\"IDCS_CD\"].replace(i, \"transport\")\n",
    "        elif i in art:\n",
    "            data4[\"IDCS_CD\"] = data4[\"IDCS_CD\"].replace(i, \"art\")\n",
    "        elif i in etc:\n",
    "            data4[\"IDCS_CD\"] = data4[\"IDCS_CD\"].replace(i, \"etc\")\n",
    "        elif i in accommodation:\n",
    "            data4[\"IDCS_CD\"] = data4[\"IDCS_CD\"].replace(i, \"accommodation\")\n",
    "        elif i in retail:\n",
    "            data4[\"IDCS_CD\"] = data4[\"IDCS_CD\"].replace(i, \"retail\")    \n",
    "    data4 =data4[['TA_YM','IDCS_CD','AMT_CORR']]\n",
    "    \n",
    "    na=data4[(data4[\"IDCS_CD\"] != \"restauran\") & (data4[\"IDCS_CD\"] != \"art\")&\n",
    "        (data4[\"IDCS_CD\"] != \"etc\")&(data4[\"IDCS_CD\"] != \"accommodation\")&(data4[\"IDCS_CD\"] != \"retail\")].index\n",
    "    data4=data4.drop(na)\n",
    "\n",
    "    YM=data4[\"TA_YM\"].drop_duplicates()\n",
    "    IDCS=data4[\"IDCS_CD\"].drop_duplicates()\n",
    "\n",
    "    fin_CO=pd.DataFrame()\n",
    "    fin_CO[\"연도\"]=YM\n",
    "    for year in YM:\n",
    "        for word in IDCS:\n",
    "            if len(data4[(data4[\"TA_YM\"]==year) |data4[\"IDCS_CD\"]==\"etc\"]) > 0:\n",
    "                pass\n",
    "            elif len(data4[(data4[\"TA_YM\"]==year) |data4[\"IDCS_CD\"]==\"etc\"]) == 0:\n",
    "                small_s = {year: (year,\"%s\" %word,0)}\n",
    "            for col,ro in small_s.items():\n",
    "                data4.loc[col] = ro\n",
    "                data4=data4.sort_values(by=['TA_YM'])\n",
    "                data4=data4.reset_index(drop=True)\n",
    "\n",
    "    for a in IDCS:\n",
    "        fin_CO.loc[:,\"%s\" %a]= data4[data4[\"IDCS_CD\"]== \"%s\" %a].groupby(['TA_YM'])[\"AMT_CORR\"].sum().values\n",
    "\n",
    "    fin_CO.to_csv('C:\\\\Users\\\\user\\\\Desktop\\\\산지 외국인.csv',encoding='cp949')\n",
    "\n",
    "\n",
    "industry(df2)"
   ]
  }
 ],
 "metadata": {
  "kernelspec": {
   "display_name": "Python 3.9.12 ('base')",
   "language": "python",
   "name": "python3"
  },
  "language_info": {
   "name": "python",
   "version": "3.9.12 (main, Apr  4 2022, 05:22:27) [MSC v.1916 64 bit (AMD64)]"
  },
  "orig_nbformat": 4,
  "vscode": {
   "interpreter": {
    "hash": "ad2bdc8ecc057115af97d19610ffacc2b4e99fae6737bb82f5d7fb13d2f2c186"
   }
  }
 },
 "nbformat": 4,
 "nbformat_minor": 2
}
