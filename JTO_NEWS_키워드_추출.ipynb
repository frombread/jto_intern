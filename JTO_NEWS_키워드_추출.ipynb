{
 "cells": [
  {
   "cell_type": "code",
   "execution_count": null,
   "metadata": {},
   "outputs": [],
   "source": [
    "import pandas as pd\n",
    "\n",
    "df1= pd.read_csv(r'C:\\Users\\user\\Desktop\\제주 관광 키워드 데이터(2022)\\키워드\\JT_SNS_KWRD_LIST_202206.csv',encoding='utf-8-sig')\n",
    "df2= pd.read_csv(r'C:\\Users\\user\\Desktop\\제주 관광 키워드 데이터(2022)\\키워드\\JT_SNS_KWRD_LIST_202207.csv',encoding='utf-8-sig')\n",
    "df3= pd.read_csv(r'C:\\Users\\user\\Desktop\\제주 관광 키워드 데이터(2022)\\키워드\\JT_SNS_KWRD_LIST_202208.csv',encoding='utf-8-sig')\n",
    "\n",
    "df=pd.concat([df1,df2,df3])\n",
    "df[\"ALL_KWRD_CN\"]=df[\"ALL_KWRD_CN\"].fillna(0)"
   ]
  },
  {
   "cell_type": "code",
   "execution_count": null,
   "metadata": {},
   "outputs": [],
   "source": [
    "b=pd.DataFrame()\n",
    "ad=pd.DataFrame()\n",
    "fin=pd.DataFrame()\n",
    "b=df3[\"ALL_KWRD_CN\"].str.split('/',expand=True)\n",
    "for i in b.iloc[:0]:\n",
    "    a=b[i]\n",
    "    ad[\"0\"]=a.values\n",
    "    fin = fin.append(ad)\n",
    "fin[\"count\"]=0"
   ]
  },
  {
   "cell_type": "code",
   "execution_count": null,
   "metadata": {},
   "outputs": [],
   "source": [
    "Tr = fin[fin['0'].str.contains('여행')|fin['0'].str.contains('가볼')|\n",
    "(fin['0']=='제주도')|(fin['0']=='제주')|fin['0'].str.contains('jeju')].index\n",
    "fin=fin.drop(Tr)"
   ]
  },
  {
   "cell_type": "code",
   "execution_count": null,
   "metadata": {},
   "outputs": [],
   "source": [
    "fin1=fin.groupby(\"0\").count()\n",
    "fin1=fin1.reset_index()\n",
    "fin1=fin1.sort_values(by=\"count\",ascending=False)\n",
    "fin1.reset_index(inplace=True)\n",
    "fin1=fin1.drop('index', axis=1)"
   ]
  },
  {
   "cell_type": "code",
   "execution_count": null,
   "metadata": {},
   "outputs": [],
   "source": [
    "fin1[\"count\"].sum()"
   ]
  },
  {
   "cell_type": "code",
   "execution_count": null,
   "metadata": {},
   "outputs": [],
   "source": [
    "wellness = fin1[fin1['0'].str.contains('힐링')|fin1['0'].str.contains('도보')|fin1['0'].str.contains('뚜벅이')|fin1['0'].str.contains('걸어')\n",
    "                |fin1['0'].str.contains('여유')|fin1['0'].str.contains('원데이')|fin1['0'].str.contains('다도')|fin1['0'].str.contains('위로')\n",
    "                |fin1['0'].str.contains('쉼')|fin1['0'].str.contains('재충전')|fin1['0'].str.contains('요가')].index\n",
    "alone = fin1[fin1['0'].str.contains('혼')|fin1['0'].str.contains('혼밥')|fin1['0'].str.contains('혼자')].index\n",
    "camp = fin1[fin1['0'].str.contains('캠프')|fin1['0'].str.contains('차박')|fin1['0'].str.contains('텐트')|fin1['0'].str.contains('야영장')|fin1['0'].str.contains('캠핑')].index\n",
    "stay = fin1[fin1['0'].str.contains('한달')|fin1['0'].str.contains('살이')|fin1['0'].str.contains('살기')].index"
   ]
  },
  {
   "cell_type": "code",
   "execution_count": null,
   "metadata": {},
   "outputs": [],
   "source": [
    "stay1 = fin1[fin1['0'].str.contains('우도')].index\n",
    "stay2 = fin1[fin1['0'].str.contains('추자도')].index\n",
    "stay3 = fin1[fin1['0'].str.contains('가파도')].index\n",
    "stay4 = fin1[fin1['0'].str.contains('마라도')].index\n",
    "stay5 = fin1[fin1['0'].str.contains('비양도')].index\n"
   ]
  },
  {
   "cell_type": "code",
   "execution_count": null,
   "metadata": {},
   "outputs": [],
   "source": [
    "for i,j in zip(fin1.index,fin1.iloc[:,0]):\n",
    "    if i in stay1:\n",
    "        fin1[\"0\"] = fin1[\"0\"].replace(j, \"우도\")\n",
    "    elif i in stay2:\n",
    "        fin1[\"0\"] = fin1[\"0\"].replace(j, \"추자도\")\n",
    "    elif i in stay3:\n",
    "        fin1[\"0\"] = fin1[\"0\"].replace(j, \"가파도\")\n",
    "    elif i in stay4:\n",
    "        fin1[\"0\"] = fin1[\"0\"].replace(j, \"마라도\")\n",
    "    elif i in stay5:\n",
    "        fin1[\"0\"] = fin1[\"0\"].replace(j, \"비양도\")  "
   ]
  },
  {
   "cell_type": "code",
   "execution_count": null,
   "metadata": {},
   "outputs": [],
   "source": [
    "fin1[fin1[\"0\"]==\"우도\"]"
   ]
  },
  {
   "cell_type": "code",
   "execution_count": null,
   "metadata": {},
   "outputs": [],
   "source": [
    "KW=fin1.groupby(\"0\")[\"count\"].sum()\n",
    "KW=KW.reset_index()\n",
    "KW=KW.sort_values(by=\"count\",ascending=False)\n",
    "KW=KW.reset_index(inplace=False)\n",
    "KW.index=KW.index+1\n",
    "KW=KW.drop('index', axis=1)\n",
    "KW=KW.rename(columns = {'count':'언급수',\"0\":\"키워드\"})\n",
    "\n",
    "Keyword3=KW.head(40)\n"
   ]
  },
  {
   "cell_type": "code",
   "execution_count": null,
   "metadata": {},
   "outputs": [],
   "source": [
    "KW[KW[\"키워드\"]==\"웰니스\"]"
   ]
  },
  {
   "cell_type": "code",
   "execution_count": null,
   "metadata": {},
   "outputs": [],
   "source": [
    "BP = fin1[fin1['0'].str.contains('흑돼')|fin1['0'].str.contains('숙성도')|\n",
    "          fin1['0'].str.contains('제주금돗')|fin1['0'].str.contains('흑돈')].index\n",
    "BP1 = fin1[fin1['0'].str.contains('고기국수')|fin1['0'].str.contains('국수')].index\n",
    "Food = fin1[fin1['0'].str.contains('맛집')|fin1['0'].str.contains('식당')].index\n",
    "NOODLE = fin1[fin1['0'].str.contains('해물라면')|fin1['0'].str.contains('놀맨')|fin1['0'].str.contains('라면')].index\n",
    "NOODLE_1 = fin1[fin1['0'].str.contains('해물짬뽕')|fin1['0'].str.contains('짬뽕')].index\n",
    "Market = fin1[fin1['0'].str.contains('시장')].index\n",
    "F_S = fin1[fin1['0'].str.contains('식당')].index\n",
    "cafe = fin1[fin1['0'].str.contains('카페')|fin1['0'].str.contains('음료')|\n",
    "            fin1['0'].str.contains('커피')|fin1['0'].str.contains('coff')|fin1['0'].str.contains('디저트')].index\n",
    "Stay = fin1[fin1['0'].str.contains('숙소')|fin1['0'].str.contains('비앤비')|fin1['0'].str.contains('게스트')].index\n",
    "Hotel =fin1[fin1['0'].str.contains('호텔')|fin1['0'].str.contains('hotel')|fin1['0'].str.contains('그랜드')|fin1['0'].str.contains('숙소')].index\n",
    "Hotpl=fin1[fin1['0'].str.contains('핫플')].index\n",
    "songM=fin1[fin1['0'].str.contains('일출봉')].index\n",
    "gold=fin1[fin1['0'].str.contains('금오름')].index\n",
    "Momom=fin1[fin1['0'].str.contains('산방산')].index\n",
    "songM=fin1[fin1['0'].str.contains('일출봉')].index\n",
    "workation = fin1[fin1['0'].str.contains('한달')|fin1['0'].str.contains('살이')|fin1['0'].str.contains('살기')].index\n",
    "workation1 = fin1[fin1['0'].str.contains('캠핑')|fin1['0'].str.contains('차박')|fin1['0'].str.contains('텐트')|fin1['0'].str.contains('야영')].index\n",
    "\n",
    "AW = fin1[fin1['0'].str.contains('애월')].index\n",
    "AD1 = fin1[fin1['0'].str.contains('안덕')].index\n",
    "AD2 = fin1[fin1['0'].str.contains('한림')].index\n",
    "AD3 = fin1[fin1['0'].str.contains('중문')].index\n",
    "AD4 = fin1[fin1['0'].str.contains('성산')].index\n",
    "AD7 = fin1[fin1['0'].str.contains('구좌')].index\n",
    "AD8 = fin1[fin1['0'].str.contains('조천')].index"
   ]
  },
  {
   "cell_type": "code",
   "execution_count": null,
   "metadata": {},
   "outputs": [],
   "source": [
    "len(gold)"
   ]
  },
  {
   "cell_type": "code",
   "execution_count": null,
   "metadata": {},
   "outputs": [],
   "source": [
    "Woo_isl = fin1[fin1['0'].str.contains('우도')].index\n",
    "cu_isl = fin1[fin1['0'].str.contains('추자도')|fin1['0'].str.contains('상추자')|fin1['0'].str.contains('하추자')].index\n",
    "#ga_isl = fin1[fin1['0'].str.contains('가파도')].index\n",
    "#ma_isl = fin1[fin1['0'].str.contains('마라도')].index\n",
    "#bi_isl = fin1[fin1['0'].str.contains('비양도')].index"
   ]
  },
  {
   "cell_type": "code",
   "execution_count": null,
   "metadata": {},
   "outputs": [],
   "source": [
    "for i,j in zip(fin1.index,fin1.iloc[:,0]):\n",
    "    if i in BP:\n",
    "        fin1[\"0\"] = fin1[\"0\"].replace(j, \"흑돼지\")\n",
    "    elif i in BP1:\n",
    "        fin1[\"0\"] = fin1[\"0\"].replace(j, \"고기국수\")\n",
    "    elif i in workation:\n",
    "        fin1[\"0\"] = fin1[\"0\"].replace(j, \"워케이션\")\n",
    "    elif i in gold:\n",
    "        fin1[\"0\"] = fin1[\"0\"].replace(j, \"금오름\")\n",
    "    elif i in Momom:\n",
    "        fin1[\"0\"] = fin1[\"0\"].replace(j, \"산방산\")\n",
    "    elif i in workation1:\n",
    "        fin1[\"0\"] = fin1[\"0\"].replace(j, \"캠핑\")\n",
    "    elif i in songM:\n",
    "        fin1[\"0\"] = fin1[\"0\"].replace(j, \"성산일출봉\")\n",
    "    elif i in AW:\n",
    "        fin1[\"0\"] = fin1[\"0\"].replace(j, \"애월\")\n",
    "    elif i in AD1:\n",
    "        fin1[\"0\"] = fin1[\"0\"].replace(j, \"안덕\")\n",
    "    elif i in AD2:\n",
    "        fin1[\"0\"] = fin1[\"0\"].replace(j, \"한림\")\n",
    "    elif i in AD3:\n",
    "        fin1[\"0\"] = fin1[\"0\"].replace(j, \"중문\")\n",
    "    elif i in AD4:\n",
    "        fin1[\"0\"] = fin1[\"0\"].replace(j, \"성산\")\n",
    "    elif i in AD7:\n",
    "        fin1[\"0\"] = fin1[\"0\"].replace(j, \"구좌\")\n",
    "    elif i in AD8:\n",
    "        fin1[\"0\"] = fin1[\"0\"].replace(j, \"조천\")\n",
    "    elif i in NOODLE:\n",
    "        fin1[\"0\"] = fin1[\"0\"].replace(j, \"해물라면\")\n",
    "    elif i in NOODLE_1:\n",
    "        fin1[\"0\"] = fin1[\"0\"].replace(j, \"해물짬뽕\")\n",
    "    elif i in Hotel:\n",
    "        fin1[\"0\"] = fin1[\"0\"].replace(j, \"호텔\")\n",
    "    elif i in Hotel:\n",
    "        fin1[\"0\"] = fin1[\"0\"].replace(j, \"호텔\")\n",
    "    elif i in Stay:\n",
    "        fin1[\"0\"] = fin1[\"0\"].replace(j, \"숙소\")\n",
    "    elif i in cafe:\n",
    "        fin1[\"0\"] = fin1[\"0\"].replace(j, \"카페\")\n",
    "    elif i in Food:\n",
    "        fin1[\"0\"] = fin1[\"0\"].replace(j, \"맛집\")\n",
    "    elif i in F_S:\n",
    "        fin1[\"0\"] = fin1[\"0\"].replace(j, \"식당\")\n",
    "    elif i in Hotpl:\n",
    "        fin1[\"0\"] = fin1[\"0\"].replace(j, \"핫플레이스\")\n",
    "    elif i in Hotel:\n",
    "        fin1[\"0\"] = fin1[\"0\"].replace(j, \"호텔\")\n",
    "    else:\n",
    "        pass\n"
   ]
  },
  {
   "cell_type": "code",
   "execution_count": null,
   "metadata": {},
   "outputs": [],
   "source": [
    "KW=fin1.groupby(\"0\")[\"count\"].sum()\n",
    "KW=KW.reset_index()\n",
    "KW=KW.sort_values(by=\"count\",ascending=False)\n",
    "KW=KW.reset_index(inplace=False)\n",
    "KW.index=KW.index+1\n",
    "KW=KW.drop('index', axis=1)\n",
    "KW=KW.rename(columns = {'count':'언급수',\"0\":\"키워드\"})\n",
    "\n",
    "Keyword3=KW.head(40)\n"
   ]
  },
  {
   "cell_type": "code",
   "execution_count": null,
   "metadata": {},
   "outputs": [],
   "source": [
    "KW['언급수'].sum()"
   ]
  },
  {
   "cell_type": "code",
   "execution_count": null,
   "metadata": {},
   "outputs": [],
   "source": [
    "Keyword3.to_csv(r'C:\\Users\\user\\Desktop\\제주 관광 키워드 데이터(2022)\\keyword111.csv',encoding='cp949')\n"
   ]
  },
  {
   "cell_type": "code",
   "execution_count": null,
   "metadata": {},
   "outputs": [],
   "source": [
    "KW_TOPIC=pd.DataFrame()\n",
    "first_index = 1\n",
    "for i,j in zip(fin1.index,fin1.iloc[:,0]):\n",
    "    if i in Tr:\n",
    "        KW_TOPIC.loc[first_index,'여행관련'] = j\n",
    "        first_index += 1\n",
    "\n",
    "KW_TOPIC"
   ]
  },
  {
   "cell_type": "markdown",
   "metadata": {},
   "source": [
    "섬"
   ]
  },
  {
   "cell_type": "code",
   "execution_count": null,
   "metadata": {},
   "outputs": [],
   "source": [
    "Keyword_ISL=Keyword.drop(1)\n",
    "Keyword_ISL=Keyword_ISL.reset_index(inplace=False)\n",
    "Keyword_ISL.index=Keyword_ISL.index+1\n",
    "Keyword_ISL=Keyword_ISL.drop('index', axis=1)"
   ]
  },
  {
   "cell_type": "code",
   "execution_count": null,
   "metadata": {},
   "outputs": [],
   "source": [
    "ISL=pd.DataFrame()\n",
    "first_index = 1\n",
    "for i,j in zip(fin1.index,fin1.iloc[:,0]):\n",
    "    if i in Woo_isl:\n",
    "        ISL.loc[first_index,'우도 키워드'] = j\n",
    "        first_index += 1\n",
    "\n",
    "first_index = 1\n",
    "for i,j in zip(fin1.index,fin1.iloc[:,0]):\n",
    "    if i in cu_isl:\n",
    "        ISL.loc[first_index,'추자도 키워드'] = j\n",
    "        first_index += 1\n",
    "\n",
    "ISL_KWAD20=ISL.head(500)"
   ]
  },
  {
   "cell_type": "code",
   "execution_count": null,
   "metadata": {},
   "outputs": [],
   "source": [
    "ISL_KWAD20.to_csv(r'C:\\Users\\user\\Desktop\\제주 관광 키워드 데이터(2022)\\ISL_keyword_KWAD20.csv',encoding='cp949')"
   ]
  },
  {
   "cell_type": "code",
   "execution_count": null,
   "metadata": {},
   "outputs": [],
   "source": [
    "Keyword_ISL.to_csv(r'C:\\Users\\user\\Desktop\\제주 관광 키워드 데이터(2022)\\ISL_LIST.csv',encoding='cp949')"
   ]
  },
  {
   "cell_type": "code",
   "execution_count": null,
   "metadata": {},
   "outputs": [],
   "source": [
    "Keyword3.to_csv(r'C:\\Users\\user\\Desktop\\제주 관광 키워드 데이터(2022)\\keyword_8월.csv',encoding='cp949')"
   ]
  }
 ],
 "metadata": {
  "kernelspec": {
   "display_name": "Python 3.9.12 ('base')",
   "language": "python",
   "name": "python3"
  },
  "language_info": {
   "codemirror_mode": {
    "name": "ipython",
    "version": 3
   },
   "file_extension": ".py",
   "mimetype": "text/x-python",
   "name": "python",
   "nbconvert_exporter": "python",
   "pygments_lexer": "ipython3",
   "version": "3.9.12"
  },
  "orig_nbformat": 4,
  "vscode": {
   "interpreter": {
    "hash": "ad2bdc8ecc057115af97d19610ffacc2b4e99fae6737bb82f5d7fb13d2f2c186"
   }
  }
 },
 "nbformat": 4,
 "nbformat_minor": 2
}
