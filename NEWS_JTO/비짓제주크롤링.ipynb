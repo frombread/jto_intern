{
 "cells": [
  {
   "attachments": {},
   "cell_type": "markdown",
   "metadata": {},
   "source": [
    "# 비짓제주 관광지 크롤링해서 활용"
   ]
  },
  {
   "cell_type": "code",
   "execution_count": null,
   "metadata": {},
   "outputs": [],
   "source": [
    "from selenium import webdriver\n",
    "from selenium.webdriver.common.by import By\n",
    "from selenium.webdriver.support import expected_conditions as EC\n",
    "from selenium.webdriver.support.ui import WebDriverWait\n",
    "import pandas as pd\n",
    "\n",
    "df = pd.read_csv(r'C:\\Users\\user\\Desktop\\관광지.csv',encoding='cp949')\n",
    "\n",
    "\n",
    "options = webdriver.ChromeOptions()\n",
    "options.add_experimental_option(\"detach\",True) # 브라우저 종료 되고 싶지 않을때\n",
    "options.add_experimental_option(\"excludeSwitches\", ['enable-logging']) # 불필요한 에러메세지 없애기\n",
    "url = \"https://www.visitjeju.net/u/94i\"\n",
    "\n",
    "browser = webdriver.Chrome(chrome_options=options, executable_path=r\"C:\\Users\\user\\Desktop\\chromedriver_win32\\chromedriver.exe\")\n",
    "browser.get(url)\n",
    "browser.maximize_window()\n",
    "\n",
    "WebDriverWait(browser,30).until(EC.element_to_be_clickable((By.XPATH,\".//*[@id='content']/div/div[2]/div[4]/div[1]/button\"))).click()\n",
    "#WebDriverWait(browser,30).until(EC.element_to_be_clickable((By.XPATH,\".//*[@id='content']/div/div[2]/div[4]/div[2]/div[1]/label[3]\"))).click()\n",
    "\n",
    "first_index = 1\n",
    "for i in range(1,93):\n",
    "    url=\"https://www.visitjeju.net/kr/detail/list?menuId=DOM_000001718000000000&cate1cd=cate0000000002#p{}&pageSize=12&sortListType=reviewcnt&viewType=list&isShowBtag&tag\".format(str(i))\n",
    "    browser.implicitly_wait(30)\n",
    "    browser.get(url)\n",
    "    for j in range(1,13):\n",
    "        title = browser.find_element(By.XPATH,\".//*[@id='content']/div/div[2]/div[5]/ul/li[{}]/dl/dt/a/p[1]\".format(str(j))).get_attribute(\"textContent\").replace('\\t','').replace('\\n','')\n",
    "        department = browser.find_element(By.XPATH,\".//*[@id='content']/div/div[2]/div[5]/ul/li[{}]/dl/dt/a/p[2]\".format(str(j))).get_attribute(\"textContent\").replace('\\t','').replace('\\n','')\n",
    "        df.loc[first_index,'이름'] = title\n",
    "        df.loc[first_index,'주소'] = department \n",
    "        first_index +=1\n",
    "            \n",
    "    browser.back()"
   ]
  },
  {
   "cell_type": "code",
   "execution_count": null,
   "metadata": {},
   "outputs": [],
   "source": [
    "df1=df[\"주소\"].str.split('>',expand=True)\n",
    "dfn=df[\"이름\"].str.split('(',expand=True)\n",
    "df1[\"이름\"]=dfn\n",
    "df=df1[[0,1]]\n",
    "df=df.rename(columns = {0: '이름',1:'위치'})"
   ]
  },
  {
   "cell_type": "code",
   "execution_count": null,
   "metadata": {},
   "outputs": [],
   "source": [
    "df.to_csv(r'C:\\Users\\user\\Desktop\\제주 관광지.csv',encoding='cp949')"
   ]
  },
  {
   "cell_type": "code",
   "execution_count": null,
   "metadata": {},
   "outputs": [],
   "source": [
    "from selenium import webdriver\n",
    "from selenium.webdriver.common.by import By\n",
    "from selenium.webdriver.support import expected_conditions as EC\n",
    "from selenium.webdriver.support.ui import WebDriverWait\n",
    "import pandas as pd\n",
    "df = pd.read_csv(r'C:\\Users\\user\\Desktop\\관광지.csv',encoding='cp949')\n",
    "\n",
    "\n",
    "options = webdriver.ChromeOptions()\n",
    "options.add_experimental_option(\"detach\",True) # 브라우저 종료 되고 싶지 않을때\n",
    "options.add_experimental_option(\"excludeSwitches\", ['enable-logging']) # 불필요한 에러메세지 없애기\n",
    "browser = webdriver.Chrome(chrome_options=options, executable_path=r\"C:\\Users\\user\\Desktop\\chromedriver_win32\\chromedriver.exe\")\n",
    "#WebDriverWait(browser,30).until(EC.element_to_be_clickable((By.XPATH,\".//*[@id='content']/div/div[2]/div[4]/div[1]/button\"))).click()\n",
    "#WebDriverWait(browser,30).until(EC.element_to_be_clickable((By.XPATH,\".//*[@id='content']/div/div[2]/div[4]/div[2]/div[1]/label[3]\"))).click()\n",
    "\n",
    "first_index = 1\n",
    "for i in range(1,138):\n",
    "    url=\"https://www.visitjeju.net/kr/detail/list?menuId=DOM_000001719000000000&cate1cd=cate0000000005#p{}&pageSize=12&sortListType=reviewcnt&viewType=list&isShowBtag&tag\".format(str(i))\n",
    "    browser.implicitly_wait(30)\n",
    "    browser.get(url)\n",
    "    browser.maximize_window()\n",
    "    for j in range(1,13):\n",
    "        title = browser.find_element(By.XPATH,\".//*[@id='content']/div/div[2]/div[5]/ul/li[{}]/dl/dt/a/p[1]\".format(str(j))).get_attribute(\"textContent\").replace('\\t','').replace('\\n','')\n",
    "        department = browser.find_element(By.XPATH,\".//*[@id='content']/div/div[2]/div[5]/ul/li[{}]/dl/dt/a/p[2]\".format(str(j))).get_attribute(\"textContent\").replace('\\t','').replace('\\n','')\n",
    "        df.loc[first_index,'이름'] = title\n",
    "        df.loc[first_index,'주소'] = department \n",
    "        first_index +=1\n",
    "            \n",
    "    browser.back()"
   ]
  },
  {
   "cell_type": "code",
   "execution_count": null,
   "metadata": {},
   "outputs": [],
   "source": [
    "df1=df[\"주소\"].str.split('>',expand=True)\n",
    "dfn=df[\"이름\"].str.split('(',expand=True)\n",
    "df1[\"이름\"]=dfn\n",
    "df=df1[[0,1]]\n",
    "df=df.rename(columns = {0: '이름',1:'주소'})"
   ]
  },
  {
   "cell_type": "code",
   "execution_count": null,
   "metadata": {},
   "outputs": [],
   "source": [
    "df.to_csv(r'C:\\Users\\user\\Desktop\\제주 Fnb.csv',encoding='utf-8-sig')"
   ]
  },
  {
   "attachments": {},
   "cell_type": "markdown",
   "metadata": {},
   "source": [
    "# 자연"
   ]
  },
  {
   "cell_type": "code",
   "execution_count": null,
   "metadata": {},
   "outputs": [],
   "source": [
    "from selenium import webdriver\n",
    "from selenium.webdriver.common.by import By\n",
    "from selenium.webdriver.support import expected_conditions as EC\n",
    "from selenium.webdriver.support.ui import WebDriverWait\n",
    "import pandas as pd\n",
    "\n",
    "df = pd.read_csv(r'C:\\Users\\user\\Desktop\\관광지.csv',encoding='cp949')\n",
    "\n",
    "\n",
    "options = webdriver.ChromeOptions()\n",
    "options.add_experimental_option(\"detach\",True) # 브라우저 종료 되고 싶지 않을때\n",
    "options.add_experimental_option(\"excludeSwitches\", ['enable-logging']) # 불필요한 에러메세지 없애기\n",
    "browser = webdriver.Chrome(chrome_options=options, executable_path=r\"C:\\Users\\user\\Desktop\\chromedriver_win32\\chromedriver.exe\")\n",
    "#WebDriverWait(browser,30).until(EC.element_to_be_clickable((By.XPATH,\".//*[@id='content']/div/div[2]/div[4]/div[1]/button\"))).click()\n",
    "#WebDriverWait(browser,30).until(EC.element_to_be_clickable((By.XPATH,\".//*[@id='content']/div/div[2]/div[4]/div[2]/div[1]/label[3]\"))).click()\n",
    "\n",
    "first_index = 1\n",
    "\n",
    "url=\"https://www.visitjeju.net/u/96H\"\n",
    "browser.implicitly_wait(30)\n",
    "browser.get(url)\n",
    "browser.maximize_window()\n",
    "WebDriverWait(browser,30).until(EC.element_to_be_clickable((By.XPATH,\".//*[@id='content']/div/div[2]/div/div[2]/div[2]/div[1]/div[2]/button\"))).click()\n",
    "\n",
    "for i in range(30):\n",
    "    browser.find_element(By.XPATH,\"//*[@id='content']/div/div[2]/div/div[2]/div[2]/div[1]/div/button\").click()\n",
    "for j in range(1,11):\n",
    "    title = browser.find_element(By.XPATH,\".//*[@id='content']/div/div[2]/div/div[2]/div[2]/div[1]/div/ul/li[{}]/a/p[1]\".format(str(j))).get_attribute(\"textContent\").replace('\\t','').replace('\\n','')\n",
    "    df.loc[first_index,\"이름\"] = title\n",
    "    first_index +=1\n",
    "    browser.back()"
   ]
  },
  {
   "cell_type": "code",
   "execution_count": null,
   "metadata": {},
   "outputs": [],
   "source": []
  },
  {
   "cell_type": "code",
   "execution_count": null,
   "metadata": {},
   "outputs": [],
   "source": [
    "from selenium import webdriver\n",
    "from selenium.webdriver.common.by import By\n",
    "from selenium.webdriver.support import expected_conditions as EC\n",
    "from selenium.webdriver.support.ui import WebDriverWait\n",
    "import pandas as pd\n",
    "df = pd.read_csv(r'C:\\Users\\user\\Desktop\\관광지.csv',encoding='cp949')\n",
    "\n",
    "\n",
    "options = webdriver.ChromeOptions()\n",
    "options.add_experimental_option(\"detach\",True) # 브라우저 종료 되고 싶지 않을때\n",
    "options.add_experimental_option(\"excludeSwitches\", ['enable-logging']) # 불필요한 에러메세지 없애기\n",
    "browser = webdriver.Chrome(chrome_options=options, executable_path=r\"C:\\Users\\user\\Desktop\\chromedriver_win32\\chromedriver.exe\")\n",
    "#WebDriverWait(browser,30).until(EC.element_to_be_clickable((By.XPATH,\".//*[@id='content']/div/div[2]/div[4]/div[1]/button\"))).click()\n",
    "#WebDriverWait(browser,30).until(EC.element_to_be_clickable((By.XPATH,\".//*[@id='content']/div/div[2]/div[4]/div[2]/div[1]/label[3]\"))).click()\n",
    "\n",
    "first_index = 1\n",
    "for i in range(1,3):\n",
    "    url=\"https://www.visitjeju.net/kr/detail/list?menuId=DOM_000001718000000000&cate1cd=cate0000000002#p{}&pageSize=12&sortListType=reviewcnt&viewType=list&isShowBtag&tag=%ED%95%B4%EC%88%98%EC%9A%95%EC%9E%A5\".format(str(i))\n",
    "    browser.implicitly_wait(30)\n",
    "    browser.get(url)\n",
    "    browser.maximize_window()\n",
    "    for j in range(1,13):\n",
    "        title = browser.find_element(By.XPATH,\".    //*[@id='content']/div/div[2]/div[5]/ul/li[{}]/dl/dt/a/p[1]\".format(str(j))).get_attribute(\"textContent\").replace('\\t','').replace('\\n','')\n",
    "        department = browser.find_element(By.XPATH,\".//*[@id='content']/div/div[2]/div[5]/ul/li[{}]/dl/dt/a/p[2]\".format(str(j))).get_attribute(\"textContent\").replace('\\t','').replace('\\n','')\n",
    "        df.loc[first_index,'이름'] = title\n",
    "        df.loc[first_index,'주소'] = department \n",
    "        first_index +=1\n",
    "            \n",
    "    browser.back()"
   ]
  },
  {
   "cell_type": "code",
   "execution_count": null,
   "metadata": {},
   "outputs": [],
   "source": [
    "#df1=df[\"주소\"].str.split('>',expand=True)\n",
    "#dfn=df[\"이름\"].str.split('(',expand=True)\n",
    "dfn[\"1\"]=df1[1]\n",
    "df2=dfn[[0,\"1\"]]\n",
    "df2=df2.rename(columns = {0: '이름',\"1\":'위치'})"
   ]
  },
  {
   "cell_type": "code",
   "execution_count": null,
   "metadata": {},
   "outputs": [],
   "source": [
    "df2.to_csv(r'C:\\Users\\user\\Desktop\\제주 숙소.csv',encoding='utf-8-sig')"
   ]
  },
  {
   "cell_type": "code",
   "execution_count": null,
   "metadata": {},
   "outputs": [],
   "source": [
    "from selenium import webdriver\n",
    "from selenium.webdriver.common.by import By\n",
    "from selenium.webdriver.support import expected_conditions as EC\n",
    "from selenium.webdriver.support.ui import WebDriverWait\n",
    "import pandas as pd\n",
    "df = pd.read_csv(r'C:\\Users\\user\\Desktop\\관광지.csv',encoding='cp949')\n",
    "\n",
    "\n",
    "options = webdriver.ChromeOptions()\n",
    "options.add_experimental_option(\"detach\",True) # 브라우저 종료 되고 싶지 않을때\n",
    "options.add_experimental_option(\"excludeSwitches\", ['enable-logging']) # 불필요한 에러메세지 없애기\n",
    "browser = webdriver.Chrome(chrome_options=options, executable_path=r\"C:\\Users\\user\\Desktop\\chromedriver_win32\\chromedriver.exe\")\n",
    "#WebDriverWait(browser,30).until(EC.element_to_be_clickable((By.XPATH,\".//*[@id='content']/div/div[2]/div[4]/div[1]/button\"))).click()\n",
    "#WebDriverWait(browser,30).until(EC.element_to_be_clickable((By.XPATH,\".//*[@id='content']/div/div[2]/div[4]/div[2]/div[1]/label[3]\"))).click()\n",
    "\n",
    "first_index = 1\n",
    "for i in range(1,3):\n",
    "    url=\"https://www.visitjeju.net/kr/detail/list?menuId=DOM_000001718000000000&cate1cd=cate0000000002#p{}&pageSize=12&sortListType=reviewcnt&viewType=list&isShowBtag&tag=%ED%95%9C%EB%9D%BC%EC%82%B0\".format(str(i))\n",
    "    browser.implicitly_wait(30)\n",
    "    browser.get(url)\n",
    "    browser.maximize_window()\n",
    "    for j in range(1,13):\n",
    "        title = browser.find_element(By.XPATH,\".    //*[@id='content']/div/div[2]/div[5]/ul/li[{}]/dl/dt/a/p[1]\".format(str(j))).get_attribute(\"textContent\").replace('\\t','').replace('\\n','')\n",
    "        department = browser.find_element(By.XPATH,\".//*[@id='content']/div/div[2]/div[5]/ul/li[{}]/dl/dt/a/p[2]\".format(str(j))).get_attribute(\"textContent\").replace('\\t','').replace('\\n','')\n",
    "        df.loc[first_index,'이름'] = title\n",
    "        df.loc[first_index,'주소'] = department \n",
    "        first_index +=1\n",
    "            \n",
    "    browser.back()"
   ]
  },
  {
   "cell_type": "code",
   "execution_count": null,
   "metadata": {},
   "outputs": [],
   "source": [
    "df1=df[\"주소\"].str.split('>',expand=True)\n",
    "dfn=df[\"이름\"].str.split('(',expand=True)\n",
    "dfn[\"1\"]=df1[1]\n",
    "df2=dfn[[0,\"1\"]]\n",
    "df2=df2.rename(columns = {0: '이름',\"1\":'위치'})\n",
    "\n",
    "df.to_csv(r'C:\\Users\\user\\Desktop\\제주 한라산.csv',encoding='utf-8-sig')"
   ]
  }
 ],
 "metadata": {
  "kernelspec": {
   "display_name": "Python 3.9.12 ('base')",
   "language": "python",
   "name": "python3"
  },
  "language_info": {
   "codemirror_mode": {
    "name": "ipython",
    "version": 3
   },
   "file_extension": ".py",
   "mimetype": "text/x-python",
   "name": "python",
   "nbconvert_exporter": "python",
   "pygments_lexer": "ipython3",
   "version": "3.9.12"
  },
  "orig_nbformat": 4,
  "vscode": {
   "interpreter": {
    "hash": "ad2bdc8ecc057115af97d19610ffacc2b4e99fae6737bb82f5d7fb13d2f2c186"
   }
  }
 },
 "nbformat": 4,
 "nbformat_minor": 2
}
