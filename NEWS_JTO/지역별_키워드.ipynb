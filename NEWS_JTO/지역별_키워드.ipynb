{
 "cells": [
  {
   "cell_type": "code",
   "execution_count": null,
   "metadata": {},
   "outputs": [],
   "source": [
    "import pandas as pd\n",
    "\n",
    "df1= pd.read_csv(r'C:\\Users\\user\\Desktop\\제주 관광 키워드 데이터(2022)\\키워드\\JT_SNS_KWRD_LIST_202206.csv',encoding='utf-8-sig')\n",
    "df2= pd.read_csv(r'C:\\Users\\user\\Desktop\\제주 관광 키워드 데이터(2022)\\키워드\\JT_SNS_KWRD_LIST_202207.csv',encoding='utf-8-sig')\n",
    "df3= pd.read_csv(r'C:\\Users\\user\\Desktop\\제주 관광 키워드 데이터(2022)\\키워드\\JT_SNS_KWRD_LIST_202208.csv',encoding='utf-8-sig')\n",
    "\n",
    "df=pd.concat([df1,df2,df3])\n",
    "df[\"ALL_KWRD_CN\"]=df[\"ALL_KWRD_CN\"].fillna(0)"
   ]
  },
  {
   "cell_type": "code",
   "execution_count": null,
   "metadata": {},
   "outputs": [],
   "source": [
    "df_FNB= pd.read_csv(r'C:\\Users\\user\\Desktop\\새 폴더\\제주 Fnb.csv',encoding='cp949')\n",
    "df_T= pd.read_csv(r'C:\\Users\\user\\Desktop\\새 폴더\\제주 관광지.csv',encoding='cp949')\n"
   ]
  },
  {
   "cell_type": "code",
   "execution_count": null,
   "metadata": {},
   "outputs": [],
   "source": [
    "b=pd.DataFrame()\n",
    "ad=pd.DataFrame()\n",
    "fin=pd.DataFrame()\n",
    "b=df[\"ALL_KWRD_CN\"].str.split('/',expand=True)\n",
    "for i in b.iloc[:0]:\n",
    "    a=b[i]\n",
    "    ad[\"0\"]=a.values\n",
    "    fin = fin.append(ad)\n",
    "fin[\"count\"]=0"
   ]
  },
  {
   "cell_type": "code",
   "execution_count": null,
   "metadata": {},
   "outputs": [],
   "source": [
    "fin1=fin.groupby(\"0\").count()\n",
    "fin1=fin1.reset_index()\n",
    "fin1=fin1.sort_values(by=\"count\",ascending=False)\n",
    "fin1.reset_index(inplace=True)\n",
    "fin1=fin1.drop('index', axis=1)"
   ]
  },
  {
   "cell_type": "code",
   "execution_count": null,
   "metadata": {},
   "outputs": [],
   "source": [
    "\n",
    "df_FNB[\"위치\"]= df_FNB[\"위치\"].str.strip()\n",
    "AW=df_FNB[df_FNB[\"위치\"]==\"애월\"]\n",
    "Je_C=df_FNB[df_FNB[\"위치\"]==\"제주시내\"]\n",
    "GU=df_FNB[df_FNB[\"위치\"]==\"구좌\"]\n",
    "songM=df_FNB[df_FNB[\"위치\"]==\"성산\"]\n",
    "S_C=df_FNB[df_FNB[\"위치\"]==\"서귀포시내\"]\n",
    "AN=df_FNB[df_FNB[\"위치\"]==\"안덕\"]\n",
    "HL=df_FNB[df_FNB[\"위치\"]==\"한림\"]\n",
    "\n",
    "\n",
    "AW_list=list(AW[\"이름\"])#A\n",
    "Je_C_list=list(Je_C[\"이름\"])#B\n",
    "GU_list=list(GU[\"이름\"])#C\n",
    "songM_list=list(songM[\"이름\"])#D\n",
    "S_C_list=list(S_C[\"이름\"])#F\n",
    "AN_list=list(AN[\"이름\"])#G\n",
    "HL_list=list(HL[\"이름\"])#G\n"
   ]
  },
  {
   "cell_type": "code",
   "execution_count": null,
   "metadata": {},
   "outputs": [],
   "source": [
    "df_T[\"주소\"]= df_T[\"주소\"].str.strip()\n",
    "AW_T=df_T[df_T[\"주소\"]==\"애월\"]\n",
    "Je_C_T=df_T[df_T[\"주소\"]==\"제주시내\"]\n",
    "GU_T=df_T[df_T[\"주소\"]==\"구좌\"]\n",
    "songM_T=df_T[df_T[\"주소\"]==\"성산\"]\n",
    "S_C_T=df_T[df_T[\"주소\"]==\"서귀포시내\"]\n",
    "AN_T=df_T[df_T[\"주소\"]==\"안덕\"]\n",
    "HL_T=df_FNB[df_FNB[\"주소\"]==\"한림\"]\n",
    "\n",
    "AW_list_T=list(AW_T[\"이름\"])#A\n",
    "Je_C_list_T=list(Je_C_T[\"이름\"])#B\n",
    "GU_list_T=list(GU_T[\"이름\"])#C\n",
    "songM_list_T=list(songM_T[\"이름\"])#D\n",
    "S_C_list_T=list(S_C_T[\"이름\"])#F\n",
    "AN_list_T=list(AN_T[\"이름\"])#G\n",
    "HL_list_T=list(HL[\"이름\"])#G"
   ]
  },
  {
   "cell_type": "code",
   "execution_count": null,
   "metadata": {},
   "outputs": [],
   "source": [
    "import numpy as np\n",
    "A=[]\n",
    "for i,j in zip(AW_list,AW_list_T):\n",
    "    AW = fin1[fin1['0'].str.contains(\"%s\"%i)|fin1['0'].str.contains(\"애월\")|fin1['0'].str.contains(\"%s\"%j)].index\n",
    "    A.append(AW.values)\n",
    "\n",
    "AW = np.concatenate(A).tolist()"
   ]
  },
  {
   "cell_type": "code",
   "execution_count": null,
   "metadata": {},
   "outputs": [],
   "source": [
    "B=[]\n",
    "for i,j in zip(Je_C_list,Je_C_list_T):\n",
    "    Je_C = fin1[fin1['0'].str.contains(\"%s\"%i)|fin1['0'].str.contains(\"제주시\")|fin1['0'].str.contains(\"%s\"%j)].index\n",
    "    B.append(Je_C.values)\n",
    "\n",
    "Je_C = np.concatenate(B).tolist()"
   ]
  },
  {
   "cell_type": "code",
   "execution_count": null,
   "metadata": {},
   "outputs": [],
   "source": [
    "C=[]\n",
    "for i,j in zip(GU_list,GU_list_T):\n",
    "    GU = fin1[fin1['0'].str.contains(\"%s\"%i)|fin1['0'].str.contains(\"구좌\")|fin1['0'].str.contains(\"%s\"%j)].index\n",
    "    C.append(GU.values)\n",
    "\n",
    "GU = np.concatenate(C).tolist()"
   ]
  },
  {
   "cell_type": "code",
   "execution_count": null,
   "metadata": {},
   "outputs": [],
   "source": [
    "D=[]\n",
    "for i,j in zip(songM_list,songM_list_T):\n",
    "    songM = fin1[fin1['0'].str.contains(\"%s\"%i)|fin1['0'].str.contains(\"성산\")|fin1['0'].str.contains(\"%s\"%j)].index\n",
    "    D.append(songM.values)\n",
    "\n",
    "songM = np.concatenate(D).tolist()"
   ]
  },
  {
   "cell_type": "code",
   "execution_count": null,
   "metadata": {},
   "outputs": [],
   "source": [
    "E=[]\n",
    "for i,j in zip(S_C_list,S_C_list_T):\n",
    "    S_C = fin1[fin1['0'].str.contains(\"%s\"%i)|fin1['0'].str.contains(\"서귀포\")|fin1['0'].str.contains(\"%s\"%j)].index\n",
    "    E.append(S_C.values)\n",
    "\n",
    "S_C = np.concatenate(E).tolist()"
   ]
  },
  {
   "cell_type": "code",
   "execution_count": null,
   "metadata": {},
   "outputs": [],
   "source": [
    "F=[]\n",
    "for i,j in zip(AN_list,AN_list_T):\n",
    "    AN = fin1[fin1['0'].str.contains(\"%s\"%i)|fin1['0'].str.contains(\"안덕\")|fin1['0'].str.contains(\"%s\"%j)].index\n",
    "    F.append(AN.values)\n",
    "\n",
    "AN = np.concatenate(F).tolist()"
   ]
  },
  {
   "cell_type": "code",
   "execution_count": null,
   "metadata": {},
   "outputs": [],
   "source": [
    "G=[]\n",
    "for i,j in zip(HL_list,HL_list_T):\n",
    "    HL = fin1[fin1['0'].str.contains(\"%s\"%i)|fin1['0'].str.contains(\"협재\")|fin1['0'].str.contains(\"%s\"%j)|fin1['0'].str.contains(\"한림\")].index\n",
    "    F.append(HL.values)\n",
    "\n",
    "HL = np.concatenate(F).tolist()"
   ]
  },
  {
   "cell_type": "code",
   "execution_count": null,
   "metadata": {},
   "outputs": [],
   "source": [
    "for i,j in zip(fin1.index,fin1.iloc[:,0]):\n",
    "    if i in AW:\n",
    "        fin1[\"0\"] = fin1[\"0\"].replace(j, \"애월\")\n",
    "    elif i in Je_C:\n",
    "        fin1[\"0\"] = fin1[\"0\"].replace(j, \"제주시\")\n",
    "    elif i in GU:\n",
    "        fin1[\"0\"] = fin1[\"0\"].replace(j, \"구좌\")\n",
    "    elif i in songM:\n",
    "        fin1[\"0\"] = fin1[\"0\"].replace(j, \"성산\")\n",
    "    elif i in S_C:\n",
    "        fin1[\"0\"] = fin1[\"0\"].replace(j, \"서귀포시\")\n",
    "    elif i in AN:\n",
    "        fin1[\"0\"] = fin1[\"0\"].replace(j, \"안덕\")\n",
    "    elif i in HL:\n",
    "        fin1[\"0\"] = fin1[\"0\"].replace(j, \"한림\")\n",
    "    else:\n",
    "        pass\n"
   ]
  },
  {
   "cell_type": "code",
   "execution_count": null,
   "metadata": {},
   "outputs": [],
   "source": [
    "Tr = fin1[fin1['0'].str.contains('여행')|fin1['0'].str.contains('가볼')].index\n",
    "jeju = fin1[(fin1['0']=='제주도')|(fin1['0']=='제주')|fin1['0'].str.contains('jeju')|fin1['0'].str.contains('제주')].index\n",
    "fin1=fin1.drop(Tr)\n",
    "fin1=fin1.drop(jeju)"
   ]
  },
  {
   "cell_type": "code",
   "execution_count": null,
   "metadata": {},
   "outputs": [],
   "source": [
    "R_Fin1=fin1.groupby(\"0\").sum()\n",
    "R_Fin1=R_Fin1.sort_values(by=\"count\",ascending=False)\n",
    "R_Fin1=R_Fin1.reset_index(inplace=False)\n",
    "R_Fin1=R_Fin1.iloc[:,0:]"
   ]
  },
  {
   "cell_type": "code",
   "execution_count": null,
   "metadata": {},
   "outputs": [],
   "source": [
    "R_fin1=R_Fin1.head(6)\n"
   ]
  },
  {
   "cell_type": "code",
   "execution_count": null,
   "metadata": {},
   "outputs": [],
   "source": [
    "R_fin1.to_csv(r\"C:\\Users\\user\\Desktop\\제주 관광 키워드 데이터(2022)\\지역.csv\",encoding=\"cp949\",index=False)\n"
   ]
  }
 ],
 "metadata": {
  "kernelspec": {
   "display_name": "Python 3.9.12 ('base')",
   "language": "python",
   "name": "python3"
  },
  "language_info": {
   "codemirror_mode": {
    "name": "ipython",
    "version": 3
   },
   "file_extension": ".py",
   "mimetype": "text/x-python",
   "name": "python",
   "nbconvert_exporter": "python",
   "pygments_lexer": "ipython3",
   "version": "3.9.12 (main, Apr  4 2022, 05:22:27) [MSC v.1916 64 bit (AMD64)]"
  },
  "orig_nbformat": 4,
  "vscode": {
   "interpreter": {
    "hash": "ad2bdc8ecc057115af97d19610ffacc2b4e99fae6737bb82f5d7fb13d2f2c186"
   }
  }
 },
 "nbformat": 4,
 "nbformat_minor": 2
}
