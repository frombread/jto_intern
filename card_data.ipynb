{
 "cells": [
  {
   "cell_type": "code",
   "execution_count": null,
   "metadata": {},
   "outputs": [],
   "source": [
    "import pandas as pd\n",
    "\n",
    "df2013= pd.read_csv(r'C:\\Users\\user\\Desktop\\카드 데이터\\card_data\\내국인\\creaditcard_P_2013.csv',encoding='cp949')\n",
    "df2014= pd.read_csv(r'C:\\Users\\user\\Desktop\\카드 데이터\\card_data\\내국인\\creaditcard_P_2014.csv',encoding='cp949')\n",
    "df2015= pd.read_csv(r'C:\\Users\\user\\Desktop\\카드 데이터\\card_data\\내국인\\creaditcard_P_2015.csv',encoding='cp949')\n",
    "df2016= pd.read_csv(r'C:\\Users\\user\\Desktop\\카드 데이터\\card_data\\내국인\\creaditcard_P_2016.csv',encoding='cp949')\n",
    "df2017= pd.read_csv(r'C:\\Users\\user\\Desktop\\카드 데이터\\card_data\\내국인\\creaditcard_P_2017.csv',encoding='cp949')\n",
    "df2018= pd.read_csv(r'C:\\Users\\user\\Desktop\\카드 데이터\\card_data\\내국인\\creaditcard_P_2018.csv',encoding='cp949')\n",
    "df2019= pd.read_csv(r'C:\\Users\\user\\Desktop\\카드 데이터\\card_data\\내국인\\creaditcard_P_2019.csv',encoding='cp949')\n",
    "df2020= pd.read_csv(r'C:\\Users\\user\\Desktop\\카드 데이터\\card_data\\내국인\\creaditcard_P_2020.csv',encoding='cp949')\n",
    "df2021_1= pd.read_csv(r'C:\\Users\\user\\Desktop\\카드 데이터\\card_data\\2021 정제\\202101_202109.csv',encoding='cp949')\n",
    "df2021_2= pd.read_csv(r'C:\\Users\\user\\Desktop\\카드 데이터\\card_data\\2021 정제\\2021_10.csv',encoding='cp949')\n",
    "df2021_3= pd.read_csv(r'C:\\Users\\user\\Desktop\\카드 데이터\\card_data\\2021 정제\\2021_11.csv',encoding='cp949')\n",
    "df2021_4= pd.read_csv(r'C:\\Users\\user\\Desktop\\카드 데이터\\card_data\\2021 정제\\2021_12.csv',encoding='cp949')\n",
    "df2021=pd.concat([df2021_1, df2021_2,df2021_3,df2021_4])\n",
    "df=pd.concat([df2013,df2014,df2015,df2016,df2017,df2018,df2019,df2020,df2021])\n",
    "df= df.reset_index()"
   ]
  },
  {
   "attachments": {},
   "cell_type": "markdown",
   "metadata": {},
   "source": [
    "# 격자"
   ]
  },
  {
   "cell_type": "code",
   "execution_count": null,
   "metadata": {},
   "outputs": [],
   "source": [
    "df1=pd.DataFrame()\n",
    "WW=WW.iloc[:,0]\n",
    "for i in list(WW):\n",
    "    b=df[df[\"BLK\"].values==i].index\n",
    "    a=b.values\n",
    "    list4 = a.tolist()\n",
    "    for a in list4:\n",
    "        df1.append(df.iloc[a,:])\n",
    "\n",
    "Tour=df1[df1[\"TOUR_GB\"] == \"도민\"].index\n",
    "df1=df1.drop(Tour)"
   ]
  },
  {
   "attachments": {},
   "cell_type": "markdown",
   "metadata": {},
   "source": [
    "# 성별+연령대"
   ]
  },
  {
   "cell_type": "code",
   "execution_count": 8,
   "metadata": {},
   "outputs": [],
   "source": [
    "df=NW[[\"TA_YM\",\"SEX_CCD\",\"AMT_CORR\"]]\n",
    "df2=df.groupby([\"TA_YM\",\"SEX_CCD\"]).sum()\n",
    "df2=df2.reset_index()\n",
    "df2=df2[[\"TA_YM\",\"SEX_CCD\",\"AMT_CORR\"]]\n",
    "df2.to_csv(r'C:\\Users\\user\\Desktop\\월.csv',encoding='cp949')"
   ]
  },
  {
   "attachments": {},
   "cell_type": "markdown",
   "metadata": {},
   "source": [
    "# 거주지별 "
   ]
  },
  {
   "cell_type": "code",
   "execution_count": null,
   "metadata": {},
   "outputs": [],
   "source": [
    "def toJeju(NW):\n",
    "    list1 = [2013,2015,2017,2019,2020,2021]\n",
    "    data=NW[[\"TA_YM\",\"C_SIDO_NM\",\"AMT_CORR\"]]\n",
    "    to=pd.DataFrame()\n",
    "    for i in list1:\n",
    "        data[\"TA_YM\"]=data[\"TA_YM\"].astype(str)\n",
    "        data1 = data[data[\"TA_YM\"].str.contains(\"%s\"%i)]\n",
    "        data1[\"TA_YM\"]=data1[\"TA_YM\"].astype(\"int\")\n",
    "        data2=data1.groupby(\"C_SIDO_NM\").sum()\n",
    "        data2=data2.reset_index()\n",
    "        to[\"지역\"] = data2[\"C_SIDO_NM\"]\n",
    "        to[\"%s\"%i] =data2.iloc[:,2].values\n",
    "    to.iloc[:,0:]\n",
    "    to.to_csv(r'C:\\Users\\user\\Desktop\\거주지.csv',encoding=\"cp949\")\n",
    "toJeju(NW)"
   ]
  },
  {
   "attachments": {},
   "cell_type": "markdown",
   "metadata": {},
   "source": [
    "# 업종"
   ]
  },
  {
   "cell_type": "code",
   "execution_count": 3,
   "metadata": {},
   "outputs": [],
   "source": [
    "G_R= [561,5611,56111,56112,56113,56114,56119,562,5621,56211,56212,56219]# General restaurant, 일반음식점\n",
    "R_R= [5619,56191,56192,56193,56194,56199,5622,56220] #resting restaurant, 기타음식점\n",
    "A_F= [551,5511,55111,55112,55113,55119,559,5590,55909] #accommodation facility, 숙박시설\n",
    "R_S = [47,471,4711,47111,47119,4712,47121,47122,47129,4719,\n",
    "                    47190,472,4721,47211,47212,47213,47214,47215,47216,\n",
    "                    47219,4722,47221,47222,474,476,4761,47611,4764,47640,\n",
    "                    477,4771,47711,47712,478,4781,47813,4784,47841,47842,4785,47852,4786] #retail store, 소매업"
   ]
  },
  {
   "cell_type": "code",
   "execution_count": 10,
   "metadata": {},
   "outputs": [],
   "source": [
    "for i in NW.iloc[:,11]:\n",
    "    if i in G_R:\n",
    "        NW[\"IDCS_CD\"] = NW[\"IDCS_CD\"].replace(i, \"일반음식점업\")\n",
    "    elif i in R_R:\n",
    "        NW[\"IDCS_CD\"] = NW[\"IDCS_CD\"].replace(i, \"기타음식점업\")\n",
    "    elif i in A_F:\n",
    "        NW[\"IDCS_CD\"] = NW[\"IDCS_CD\"].replace(i, \"숙박시설업\")\n",
    "    elif i in R_S:\n",
    "        NW[\"IDCS_CD\"] = NW[\"IDCS_CD\"].replace(i, \"소매업\")\n",
    "\n"
   ]
  },
  {
   "cell_type": "code",
   "execution_count": null,
   "metadata": {},
   "outputs": [],
   "source": [
    "NW.to_csv(r'C:\\Users\\user\\Desktop\\월정리.csv',encoding=\"cp949\")"
   ]
  },
  {
   "attachments": {},
   "cell_type": "markdown",
   "metadata": {},
   "source": [
    "# 그리드 업종"
   ]
  },
  {
   "cell_type": "code",
   "execution_count": null,
   "metadata": {},
   "outputs": [],
   "source": [
    "def WTF (data,input):\n",
    "    df=data[[\"TA_YM\",\"BLK\",\"IDCS_CD\",\"AMT_CORR\"]]\n",
    "    df1 =df.groupby(['TA_YM',\"BLK\",'IDCS_CD']).sum()\n",
    "    df1=df1.reset_index()\n",
    "    df1[\"TA_YM\"]=df1[\"TA_YM\"].astype(str)\n",
    "    df2 = df1[df1[\"TA_YM\"].str.contains(\"%s\"%input)]\n",
    "    df2[\"TA_YM\"]=df2[\"TA_YM\"].astype(\"int\") \n",
    "    for i in df2.iloc[:,2]:\n",
    "        if i in G_R:\n",
    "            df2[\"IDCS_CD\"] = df2[\"IDCS_CD\"].replace(i, \"일반음식점업\")\n",
    "        elif i in R_R:\n",
    "            df2[\"IDCS_CD\"] = df2[\"IDCS_CD\"].replace(i, \"기타음식점업\")\n",
    "        elif i in A_F:\n",
    "            df2[\"IDCS_CD\"] = df2[\"IDCS_CD\"].replace(i, \"숙박시설업\")\n",
    "        elif i in R_S:\n",
    "            df2[\"IDCS_CD\"] = df2[\"IDCS_CD\"].replace(i, \"소매업\")   \n",
    "    df2 =df2[[\"BLK\",'IDCS_CD','AMT_CORR']]\n",
    "    na=df2[(df2[\"IDCS_CD\"] != \"일반음식점업\") & (df2[\"IDCS_CD\"] != \"기타음식점업\")&\n",
    "        (df2[\"IDCS_CD\"] != \"숙박시설업\")&(df2[\"IDCS_CD\"] != \"소매업\")].index\n",
    "\n",
    "    df2=df2.drop(na)\n",
    "    YM=df2[\"BLK\"].drop_duplicates()\n",
    "    IDCS=df2[\"IDCS_CD\"].drop_duplicates()\n",
    "        \n",
    "    for b in IDCS:\n",
    "        fin_R_S=df2[df2[\"IDCS_CD\"]==\"%s\"%b].groupby(['BLK']).sum()\n",
    "        fin_R_S=fin_R_S.reset_index()\n",
    "        fin_CO=pd.DataFrame()\n",
    "        fin_CO[\"GridName\"]=YM\n",
    "        for i in YM:\n",
    "            if i in fin_R_S[\"BLK\"].values:\n",
    "                pass\n",
    "            elif i not in fin_R_S[\"BLK\"].values:\n",
    "                small_s = {i: (i,\"%s\"%b,0)}\n",
    "                for col,ro in small_s.items():\n",
    "                    df2.loc[col] = ro\n",
    "                    df2=df2.sort_values(by=['BLK'])\n",
    "                    df2=df2.reset_index(drop=True)\n",
    "    \n",
    "    \n",
    "    \n",
    "    for a in IDCS:\n",
    "        fin_CO.loc[:,\"%s\" %a]= df2[df2[\"IDCS_CD\"]== \"%s\" %a].groupby(['BLK'])[\"AMT_CORR\"].sum().values\n",
    "    fin_CO.to_csv('C:\\\\Users\\\\user\\\\Desktop\\\\월정리\\\\그리드 업종_%s.csv'%input,encoding='cp949')\n",
    "    \n",
    "WTF(NW,2021)"
   ]
  },
  {
   "attachments": {},
   "cell_type": "markdown",
   "metadata": {},
   "source": [
    "# 그리드 연령"
   ]
  },
  {
   "cell_type": "code",
   "execution_count": null,
   "metadata": {},
   "outputs": [],
   "source": [
    "def age(NW,input,a):    \n",
    "    df=NW[[\"TA_YM\",\"BLK\",\"AGE_GB\",\"SEX_CCD\",\"AMT_CORR\"]]\n",
    "\n",
    "\n",
    "    \n",
    "    df=df[df[\"SEX_CCD\"]==\"%s\"%a]\n",
    "    df1 =df.groupby(['TA_YM',\"BLK\",'AGE_GB']).sum()\n",
    "    df1=df1.reset_index()\n",
    "    df1[\"TA_YM\"]=df1[\"TA_YM\"].astype(str)\n",
    "    df2 = df1[df1[\"TA_YM\"].str.contains(\"%s\"%input)]\n",
    "    \n",
    "    df2=df2[[\"BLK\",\"AGE_GB\",\"AMT_CORR\"]]\n",
    "    dfl=df2[\"BLK\"].drop_duplicates() ## 중복행 처리\n",
    "    AGE_Z=df2[\"AGE_GB\"].drop_duplicates()\n",
    "\n",
    "    for b in AGE_Z:\n",
    "        fin_R_S=df2[df2[\"AGE_GB\"]==\"%s\"%b].groupby(['BLK']).sum()\n",
    "        fin_R_S=fin_R_S.reset_index()\n",
    "        fin_CO=pd.DataFrame()\n",
    "        fin_CO[\"GridName\"]=dfl\n",
    "        for i in dfl:\n",
    "            if i in fin_R_S[\"BLK\"].values:\n",
    "                pass\n",
    "            elif i not in fin_R_S[\"BLK\"].values:\n",
    "                small_s = {i: (i,\"%s\"%b,0)}\n",
    "                for col,ro in small_s.items():\n",
    "                    df2.loc[col] = ro\n",
    "                    df2=df2.sort_values(by=['BLK'])\n",
    "                    df2=df2.reset_index(drop=True)\n",
    "    df2[\"AGE_GB\"] = df2[\"AGE_GB\"].astype(\"int\")\n",
    "    AG_2=df2[(df2[\"AGE_GB\"]==1)|(df2[\"AGE_GB\"]==2)].groupby(['BLK']).sum()\n",
    "    AG_6=df2[(df2[\"AGE_GB\"]==6)|(df2[\"AGE_GB\"]==7)|(df2[\"AGE_GB\"]==8)].groupby(['BLK']).sum()\n",
    "    AG_3=df2[(df2[\"AGE_GB\"]==3)].groupby(['BLK']).sum()\n",
    "    AG_4=df2[(df2[\"AGE_GB\"]==4)].groupby(['BLK']).sum()\n",
    "    AG_5=df2[(df2[\"AGE_GB\"]==5)].groupby(['BLK']).sum()\n",
    "    AG_2=AG_2.reset_index()\n",
    "    AG_6=AG_6.reset_index()\n",
    "    AG_3=AG_3.reset_index()\n",
    "    AG_4=AG_4.reset_index()\n",
    "    AG_5=AG_5.reset_index()\n",
    "    fin_AGE=pd.DataFrame()\n",
    "    fin_AGE[\"GridName\"]=dfl\n",
    "    fin_AGE=fin_AGE.sort_values(by=['GridName'])\n",
    "    fin_AGE=fin_AGE.reset_index(drop=True)\n",
    "    fin_AGE[\"20대 이하\"] =AG_2.iloc[:,2].values\n",
    "    fin_AGE[\"60대 이상\"] =AG_6.iloc[:,2].values\n",
    "    fin_AGE[\"30대\"] =AG_3.iloc[:,2].values\n",
    "    fin_AGE[\"40대\"] =AG_4.iloc[:,2].values\n",
    "    fin_AGE[\"50대\"] =AG_5.iloc[:,2].values\n",
    "    fin_AGE.to_csv('C:\\\\Users\\\\user\\\\Desktop\\\\그리드 연령+성별 %s 여.csv'%input,encoding='cp949')\n",
    "\n",
    "age(NW,input=\"2021\",a=\"F\")"
   ]
  },
  {
   "attachments": {},
   "cell_type": "markdown",
   "metadata": {},
   "source": [
    "# 업종별"
   ]
  },
  {
   "cell_type": "code",
   "execution_count": null,
   "metadata": {},
   "outputs": [],
   "source": [
    "df4 =df2.groupby(['TA_YM','IDCS_CD']).sum()\n",
    "df4=df4.reset_index()\n",
    "for i in df4.iloc[:,1]:\n",
    "    if i in G_R:\n",
    "        df4[\"IDCS_CD\"] = df4[\"IDCS_CD\"].replace(i, \"일반음식점\")\n",
    "    elif i in R_R:\n",
    "        df4[\"IDCS_CD\"] = df4[\"IDCS_CD\"].replace(i, \"기타음식점\")\n",
    "    elif i in A_F:\n",
    "        df4[\"IDCS_CD\"] = df4[\"IDCS_CD\"].replace(i, \"숙박시설\")\n",
    "    elif i in R_S:\n",
    "        df4[\"IDCS_CD\"] = df4[\"IDCS_CD\"].replace(i, \"소매업\")   \n",
    "df4 =df4[['TA_YM','IDCS_CD','AMT_CORR',\"USECT_CORR\"]]\n",
    "na=df4[(df4[\"IDCS_CD\"] != \"일반음식점\") & (df4[\"IDCS_CD\"] != \"기타음식점\")&\n",
    "    (df4[\"IDCS_CD\"] != \"숙박시설\")&(df4[\"IDCS_CD\"] != \"소매업\")].index\n",
    "\n",
    "df4=df4.drop(na)\n",
    "df4"
   ]
  },
  {
   "cell_type": "code",
   "execution_count": null,
   "metadata": {},
   "outputs": [],
   "source": [
    "YM=df4[\"TA_YM\"].drop_duplicates()\n",
    "IDCS=df4[\"IDCS_CD\"].drop_duplicates()\n",
    "    \n",
    "for b in IDCS:\n",
    "    fin_R_S=df4[df4[\"IDCS_CD\"]==\"%s\"%b].groupby(['TA_YM']).sum()\n",
    "    fin_R_S=fin_R_S.reset_index()\n",
    "    fin_CO=pd.DataFrame()\n",
    "    fin_CO[\"연도\"]=YM\n",
    "    for i in YM:\n",
    "        if i in fin_R_S[\"TA_YM\"].values:\n",
    "            pass\n",
    "        elif i not in fin_R_S[\"TA_YM\"].values:\n",
    "            small_s = {i: (i,\"%s\"%b,0,0)}\n",
    "            for col,ro in small_s.items():\n",
    "                df4.loc[col] = ro\n",
    "                df4=df4.sort_values(by=['TA_YM'])\n",
    "                df4=df4.reset_index(drop=True)\n",
    "\n",
    "\n",
    "\n",
    "for a in IDCS:\n",
    "    fin_CO.loc[:,\"%s\" %a]= df4[df4[\"IDCS_CD\"]== \"%s\" %a].groupby(['TA_YM'])[\"AMT_CORR\"].sum().values\n",
    "    \n",
    "fin_CO =fin_CO[[\"연도\",\"일반음식점\",\"기타음식점\",\"숙박시설\",\"소매업\"]]"
   ]
  },
  {
   "cell_type": "code",
   "execution_count": null,
   "metadata": {},
   "outputs": [],
   "source": [
    "fin_CO.to_csv(r'C:\\Users\\user\\Desktop\\업종령별.csv',encoding='cp949')"
   ]
  },
  {
   "attachments": {},
   "cell_type": "markdown",
   "metadata": {},
   "source": [
    "# 연령별"
   ]
  },
  {
   "cell_type": "code",
   "execution_count": null,
   "metadata": {},
   "outputs": [],
   "source": [
    "df5 =df2.groupby(['TA_YM',\"AGE_GB\"]).sum()\n",
    "df5=df5.reset_index()\n",
    "df5 =df5[['TA_YM','AGE_GB',\"AMT_CORR\"]]"
   ]
  },
  {
   "cell_type": "code",
   "execution_count": null,
   "metadata": {},
   "outputs": [],
   "source": [
    "\n",
    "AG_2=df5[(df5[\"AGE_GB\"]==1)|(df5[\"AGE_GB\"]==2)].groupby(['TA_YM']).sum()\n",
    "AG_6=df5[(df5[\"AGE_GB\"]==6)|(df5[\"AGE_GB\"]==7)|(df5[\"AGE_GB\"]==8)].groupby(['TA_YM']).sum()\n",
    "AG_2=AG_2.reset_index()\n",
    "AG_6=AG_6.reset_index()\n",
    "\n",
    "dfl=df5[\"TA_YM\"].drop_duplicates() ## 중복행 처리\n",
    "fin_AGE=pd.DataFrame()\n",
    "fin_AGE[\"연도\"]=dfl\n",
    "\n",
    "for i in range(1,9):\n",
    "    if i ==1 or i==2:\n",
    "        fin_AGE[\"20대 이하\"] =0\n",
    "        #fin_AGE[\"20대 이하횟수\"]=0\n",
    "        fin_AGE[\"20대 이하\"] =AG_2.iloc[:,2].values\n",
    "        #fin_AGE[\"20대 이하횟수\"] =AG_2.iloc[:,3].values\n",
    "    elif i == 6 or i== 7 or i== 8:\n",
    "        fin_AGE[\"60대 이상\"] =0\n",
    "        #fin_AGE[\"60대 이상횟수\"] =0\n",
    "        fin_AGE[\"60대 이상\"] =AG_6.iloc[:,2].values\n",
    "        #fin_AGE[\"60대 이상횟수\"] =AG_6.iloc[:,3].values\n",
    "    else:\n",
    "        fin_AGE[\"%d0대\" % i]=0\n",
    "        #fin_AGE[\"%d0대횟수\" % i]=0\n",
    "        fin_AGE[\"%i0대\" %i]=df5.iloc[df5[df5[\"AGE_GB\"] == i].index,2].values\n",
    "        #fin_AGE[\"%i0대횟수\" %i]=df5.iloc[df5[df5[\"AGE_GB\"] == i].index,3].values\n"
   ]
  },
  {
   "cell_type": "code",
   "execution_count": null,
   "metadata": {},
   "outputs": [],
   "source": [
    "fin_AGE.to_csv(r'C:\\Users\\user\\Desktop\\creaditcard_P_2020_연령별.csv',encoding='cp949')"
   ]
  }
 ],
 "metadata": {
  "kernelspec": {
   "display_name": "Python 3.9.12 ('base')",
   "language": "python",
   "name": "python3"
  },
  "language_info": {
   "codemirror_mode": {
    "name": "ipython",
    "version": 3
   },
   "file_extension": ".py",
   "mimetype": "text/x-python",
   "name": "python",
   "nbconvert_exporter": "python",
   "pygments_lexer": "ipython3",
   "version": "3.9.12 (main, Apr  4 2022, 05:22:27) [MSC v.1916 64 bit (AMD64)]"
  },
  "orig_nbformat": 4,
  "vscode": {
   "interpreter": {
    "hash": "ad2bdc8ecc057115af97d19610ffacc2b4e99fae6737bb82f5d7fb13d2f2c186"
   }
  }
 },
 "nbformat": 4,
 "nbformat_minor": 2
}
