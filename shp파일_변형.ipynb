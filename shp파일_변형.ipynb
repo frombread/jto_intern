{
 "cells": [
  {
   "cell_type": "code",
   "execution_count": 1,
   "metadata": {},
   "outputs": [],
   "source": [
    "import geopandas as gpd\n",
    "import pandas as pd\n",
    "#file = gpd.read_file('shp위치',encoding = \"cp949\")\n",
    "#df = pd.read_csv('csv 위치',encoding=\"cp949\")"
   ]
  },
  {
   "cell_type": "code",
   "execution_count": null,
   "metadata": {},
   "outputs": [],
   "source": [
    "first_index = 0\n",
    "list1= [\"A_F\",\"G_R\",\"R_R\"]\n",
    "for a in df.iloc[:,0]:\n",
    "    in_de = file[file[\"GridName\"]== a].index\n",
    "    file.loc[in_de,\"영어로 업종 \"] = df.loc[first_index,\"한글로 업종\"]\n",
    "    first_index += 1\n",
    "file=file.fillna(0)\n"
   ]
  }
 ],
 "metadata": {
  "kernelspec": {
   "display_name": "Python 3.9.12 ('base')",
   "language": "python",
   "name": "python3"
  },
  "language_info": {
   "codemirror_mode": {
    "name": "ipython",
    "version": 3
   },
   "file_extension": ".py",
   "mimetype": "text/x-python",
   "name": "python",
   "nbconvert_exporter": "python",
   "pygments_lexer": "ipython3",
   "version": "3.9.12 (main, Apr  4 2022, 05:22:27) [MSC v.1916 64 bit (AMD64)]"
  },
  "orig_nbformat": 4,
  "vscode": {
   "interpreter": {
    "hash": "ad2bdc8ecc057115af97d19610ffacc2b4e99fae6737bb82f5d7fb13d2f2c186"
   }
  }
 },
 "nbformat": 4,
 "nbformat_minor": 2
}
