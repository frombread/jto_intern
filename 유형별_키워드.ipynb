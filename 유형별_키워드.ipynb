{
 "cells": [
  {
   "cell_type": "code",
   "execution_count": null,
   "metadata": {},
   "outputs": [],
   "source": [
    "import pandas as pd\n",
    "\n",
    "df1= pd.read_csv(r'C:\\Users\\user\\Desktop\\제주 관광 키워드 데이터(2022)\\키워드\\JT_SNS_KWRD_LIST_202206.csv',encoding='utf-8-sig')\n",
    "df2= pd.read_csv(r'C:\\Users\\user\\Desktop\\제주 관광 키워드 데이터(2022)\\키워드\\JT_SNS_KWRD_LIST_202207.csv',encoding='utf-8-sig')\n",
    "df3= pd.read_csv(r'C:\\Users\\user\\Desktop\\제주 관광 키워드 데이터(2022)\\키워드\\JT_SNS_KWRD_LIST_202208.csv',encoding='utf-8-sig')\n",
    "\n",
    "df=pd.concat([df1,df2,df3])\n",
    "df[\"ALL_KWRD_CN\"]=df[\"ALL_KWRD_CN\"].fillna(0)"
   ]
  },
  {
   "cell_type": "code",
   "execution_count": null,
   "metadata": {},
   "outputs": [],
   "source": [
    "df_FNB= pd.read_csv(r'C:\\Users\\user\\Desktop\\새 폴더\\제주 Fnb.csv',encoding='cp949')\n",
    "df_do= pd.read_csv(r'C:\\Users\\user\\Desktop\\새 폴더\\제주 숙소.csv',encoding='utf-8-sig')\n",
    "df_N =pd.read_csv(r'C:\\Users\\user\\Desktop\\새 폴더\\제주 자연관광.csv',encoding='utf-8-sig')"
   ]
  },
  {
   "cell_type": "code",
   "execution_count": null,
   "metadata": {},
   "outputs": [],
   "source": [
    "b=pd.DataFrame()\n",
    "ad=pd.DataFrame()\n",
    "fin=pd.DataFrame()\n",
    "b=df[\"ALL_KWRD_CN\"].str.split('/',expand=True)\n",
    "for i in b.iloc[:0]:\n",
    "    a=b[i]\n",
    "    ad[\"0\"]=a.values\n",
    "    fin = fin.append(ad)\n",
    "fin[\"count\"]=0\n"
   ]
  },
  {
   "cell_type": "code",
   "execution_count": null,
   "metadata": {},
   "outputs": [],
   "source": [
    "fin1=fin.groupby(\"0\").count()\n",
    "fin1=fin1.reset_index()\n",
    "fin1=fin1.sort_values(by=\"count\",ascending=False)\n",
    "fin1.reset_index(inplace=True)\n",
    "fin1=fin1.drop('index', axis=1)"
   ]
  },
  {
   "cell_type": "code",
   "execution_count": null,
   "metadata": {},
   "outputs": [],
   "source": [
    "fin1[\"count\"].sum()"
   ]
  },
  {
   "cell_type": "code",
   "execution_count": null,
   "metadata": {},
   "outputs": [],
   "source": [
    "Fnb=list(df_FNB[\"이름\"])\n",
    "Do=list(df_do[\"이름\"])\n",
    "NA =list(df_N[\"이름\"])\n",
    "\n",
    "Tr = fin1[fin1['0'].str.contains('가볼')|fin1['0'].str.contains('주간일기')|fin1['0'].str.contains('스타그램')|fin1['0'].str.contains('갈만')\n",
    "    |fin1['0'].str.contains('좋반')|fin1['0'].str.contains('여행')|fin1['0'].str.contains('한달')\n",
    "    |fin1['0'].str.contains('핫플')|fin1['0'].str.contains('살이')|fin1['0'].str.contains('살기')|fin1['0'].str.contains('일상')\n",
    "    |fin1['0'].str.contains('0')|fin1['0'].str.contains('0')|fin1['0'].str.contains('z')|fin1['0'].str.contains('w')|fin1['0'].str.contains('1')|\n",
    "    fin1['0'].str.contains('c')|fin1['0'].str.contains('d')|fin1['0'].str.contains('b')|fin1['0'].str.contains('d')|fin1['0'].str.contains('a')|\n",
    "    fin1['0'].str.contains('d')|(fin1['0']=='제주도')|(fin1['0']=='제주')|fin1['0'].str.contains('eju')|fin1['0'].str.contains('2')\n",
    "    |fin1['0'].str.contains('3')|fin1['0'].str.contains('4')|fin1['0'].str.contains('5')|fin1['0'].str.contains('6')|fin1['0'].str.contains('7')\n",
    "    |fin1['0'].str.contains('8')|fin1['0'].str.contains('9')|fin1['0'].str.contains('A')|fin1['0'].str.contains('B')|fin1['0'].str.contains('C')\n",
    "    |fin1['0'].str.contains('D')|fin1['0'].str.contains('E')|fin1['0'].str.contains('F')|fin1['0'].str.contains('G')|fin1['0'].str.contains('H')\n",
    "    |fin1['0'].str.contains('j')|fin1['0'].str.contains('J')|fin1['0'].str.contains('K')|fin1['0'].str.contains('M')|fin1['0'].str.contains('제주도민')\n",
    "    |fin1['0'].str.contains('m')].index\n",
    "\n",
    "workation = fin1[fin1['0'].str.contains('한달')|fin1['0'].str.contains('살이')|fin1['0'].str.contains('살기')].index\n",
    "domi= fin1[fin1['0'].str.contains('숙소')|fin1['0'].str.contains('비앤비')|fin1['0'].str.contains('게스트')|\n",
    "    fin1['0'].str.contains('호텔')|fin1['0'].str.contains('hotel')|fin1['0'].str.contains('그랜드')|fin1['0'].str.contains('온천')\n",
    "    |fin1['0'].str.contains('족욕')|fin1['0'].str.contains('휴양')|fin1['0'].str.contains('리조트')|fin1['0'].str.contains('신화')\n",
    "    |fin1['0'].str.contains('콘도')|fin1['0'].str.contains('풀빌라')|fin1['0'].str.contains('자쿠지')|fin1['0'].str.contains('수영장')\n",
    "    |fin1['0'].str.contains('카페')|fin1['0'].str.contains('coff')|fin1['0'].str.contains('디저트')|fin1['0'].str.contains('커피')\n",
    "    |fin1['0'].str.contains('스타벅스')|fin1['0'].str.contains('스벅')|fin1['0'].str.contains('가는곶')|fin1['0'].str.contains('우무')\n",
    "    |fin1['0'].str.contains('산책')|fin1['0'].str.contains('족욕')].index\n",
    "\n",
    "\n",
    "Nature=fin1[fin1['0'].str.contains('곶자왈')|fin1['0'].str.contains('한라산')|fin1['0'].str.contains('해수')|\n",
    "    fin1['0'].str.contains('계곡')|fin1['0'].str.contains('바다')|fin1['0'].str.contains('수영')|fin1['0'].str.contains('온천')\n",
    "    |fin1['0'].str.contains('수국')|fin1['0'].str.contains('휴양')|fin1['0'].str.contains('산책')|fin1['0'].str.contains('오름')\n",
    "    |fin1['0'].str.contains('꽃')|fin1['0'].str.contains('올레길')|fin1['0'].str.contains('코스')|fin1['0'].str.contains('숲')\n",
    "    |fin1['0'].str.contains('해변')|fin1['0'].str.contains('폭포')|fin1['0'].str.contains('해안')|fin1['0'].str.contains('천제연')\n",
    "    |fin1['0'].str.contains('자연')|fin1['0'].str.contains('한라')|fin1['0'].str.contains('뷰')|fin1['0'].str.contains('사진')\n",
    "    |fin1['0'].str.contains('만장굴')|fin1['0'].str.contains('우도')|fin1['0'].str.contains('마라도')|fin1['0'].str.contains('가파도')\n",
    "    |fin1['0'].str.contains('가파도')|fin1['0'].str.contains('추자')|fin1['0'].str.contains('비양도')|fin1['0'].str.contains('쇠소')\n",
    "    |fin1['0'].str.contains('주상')|fin1['0'].str.contains('여미지')].index\n",
    "\n",
    "\n",
    "Food1 = fin1[fin1['0'].str.contains('맛집')|fin1['0'].str.contains('라면')|fin1['0'].str.contains('놀맨')\n",
    "    |fin1['0'].str.contains('짬뽕')|fin1['0'].str.contains('카페')|fin1['0'].str.contains('음료')|fin1['0'].str.contains('커피')\n",
    "    |fin1['0'].str.contains('coff')|fin1['0'].str.contains('디저트')|fin1['0'].str.contains('식당')|fin1['0'].str.contains('흑돼')\n",
    "    |fin1['0'].str.contains('숙성도')|fin1['0'].str.contains('제주금돗')|fin1['0'].str.contains('흑돈')|fin1['0'].str.contains('우무')\n",
    "    |fin1['0'].str.contains('회')|fin1['0'].str.contains('횟')|fin1['0'].str.contains('귤')|fin1['0'].str.contains('흑임자')\n",
    "    |fin1['0'].str.contains('가는곶')|fin1['0'].str.contains('노티드')|fin1['0'].str.contains('바베큐')|fin1['0'].str.contains('면')|fin1['0'].str.contains('국')|fin1['0'].str.contains('밥')|fin1['0'].str.contains('고기')\n",
    "    |fin1['0'].str.contains('스타벅스')|fin1['0'].str.contains('스벅')].index\n",
    "\n"
   ]
  },
  {
   "cell_type": "code",
   "execution_count": null,
   "metadata": {},
   "outputs": [],
   "source": [
    "import numpy as np\n",
    "C=[]\n",
    "for i in df_FNB[\"이름\"]:\n",
    "    fnb=fin1[fin1['0'].str.contains(\"%s\"%i)].index\n",
    "    C.append(fnb)\n",
    "\n",
    "F_COF = np.concatenate(C).tolist()\n"
   ]
  },
  {
   "cell_type": "code",
   "execution_count": null,
   "metadata": {},
   "outputs": [],
   "source": [
    "fin1[fin1[\"0\"].str.contains()].index==443"
   ]
  },
  {
   "cell_type": "code",
   "execution_count": null,
   "metadata": {},
   "outputs": [],
   "source": [
    "for i,j in zip(fin1.index,fin1.iloc[:,0]):\n",
    "    if i in F_COF:\n",
    "        fin1[\"0\"] = fin1[\"0\"].replace(j,\"식도락\")\n",
    "    elif i in Food1:\n",
    "        fin1[\"0\"] = fin1[\"0\"].replace(j,\"식도락\")\n",
    "    else:\n",
    "        pass\n"
   ]
  },
  {
   "cell_type": "code",
   "execution_count": null,
   "metadata": {},
   "outputs": [],
   "source": [
    "fin1=fin1.drop(Tr)"
   ]
  },
  {
   "cell_type": "code",
   "execution_count": null,
   "metadata": {},
   "outputs": [],
   "source": [
    "sicdorak=fin1.groupby(\"0\").sum()\n",
    "sicdorak.loc[\"식도락\",:]"
   ]
  },
  {
   "cell_type": "code",
   "execution_count": null,
   "metadata": {},
   "outputs": [],
   "source": [
    "sicdorak[\"count\"].sum()"
   ]
  },
  {
   "cell_type": "code",
   "execution_count": null,
   "metadata": {},
   "outputs": [],
   "source": [
    "sicodorak_w=pd.DataFrame()\n",
    "first_index=1\n",
    "\n",
    "for i in fin1.index:\n",
    "    if i in F_COF:\n",
    "        sicodorak_w.loc[first_index,'w'] = fin1.iloc[i,0]\n",
    "        sicodorak_w.loc[first_index,'z'] = fin1.iloc[i,1]\n",
    "        first_index += 1\n",
    "\n",
    "    #elif i in Food1:\n",
    "    #    sicodorak_w.loc[first_index,'w'] = fin1.iloc[i,0]\n",
    "    #    sicodorak_w.loc[first_index,'z'] = fin1.iloc[i,1]\n",
    "    #    first_index += 1\n",
    "    \n"
   ]
  },
  {
   "cell_type": "code",
   "execution_count": null,
   "metadata": {},
   "outputs": [],
   "source": [
    "sicodorak_w.to_csv(r'C:\\Users\\user\\Desktop\\wordcloud.csv',encoding='utf-8-sig')"
   ]
  },
  {
   "cell_type": "code",
   "execution_count": null,
   "metadata": {},
   "outputs": [],
   "source": [
    "import numpy as np\n",
    "dod=[]\n",
    "for i in Do:\n",
    "    do = fin1[fin1['0'].str.contains(\"%s\"%i)].index\n",
    "    dod.append(do.values)\n",
    "\n",
    "DOMI = np.concatenate(dod).tolist()"
   ]
  },
  {
   "cell_type": "code",
   "execution_count": null,
   "metadata": {},
   "outputs": [],
   "source": [
    "for i,j in zip(fin1.index,fin1.iloc[:,0]):\n",
    "    if i in DOMI:\n",
    "        fin1[\"0\"] = fin1[\"0\"].replace(j, \"호캉스\")\n",
    "    elif i in domi:\n",
    "        fin1[\"0\"] = fin1[\"0\"].replace(j,\"호캉스\")\n",
    "\n",
    "    else:\n",
    "        pass\n"
   ]
  },
  {
   "cell_type": "code",
   "execution_count": null,
   "metadata": {},
   "outputs": [],
   "source": [
    "fin1=fin1.drop(Tr)"
   ]
  },
  {
   "cell_type": "code",
   "execution_count": null,
   "metadata": {},
   "outputs": [],
   "source": [
    "rel=fin1.groupby(\"0\").sum()\n",
    "rel.loc[\"호캉스\",:]"
   ]
  },
  {
   "cell_type": "code",
   "execution_count": null,
   "metadata": {},
   "outputs": [],
   "source": [
    "rel['count'].sum()"
   ]
  },
  {
   "cell_type": "code",
   "execution_count": null,
   "metadata": {},
   "outputs": [],
   "source": [
    "import numpy as np\n",
    "n=[]\n",
    "for i in NA:\n",
    "    na = fin1[fin1['0'].str.contains(\"%s\"%i)].index\n",
    "    n.append(na.values)\n",
    "\n",
    "nature = np.concatenate(n).tolist()"
   ]
  },
  {
   "cell_type": "code",
   "execution_count": null,
   "metadata": {},
   "outputs": [],
   "source": [
    "for i,j in zip(fin1.index,fin1.iloc[:,0]):\n",
    "    if i in nature:\n",
    "        fin1[\"0\"] = fin1[\"0\"].replace(j, \"자연\")\n",
    "    elif i in Nature:\n",
    "        fin1[\"0\"] = fin1[\"0\"].replace(j,\"자연\")\n",
    "    else:\n",
    "        pass\n"
   ]
  },
  {
   "cell_type": "code",
   "execution_count": null,
   "metadata": {},
   "outputs": [],
   "source": [
    "fin1=fin1.drop(Tr)"
   ]
  },
  {
   "cell_type": "code",
   "execution_count": null,
   "metadata": {},
   "outputs": [],
   "source": [
    "jayun=fin1.groupby(\"0\").sum()\n",
    "jayun.loc[\"자연\",:]"
   ]
  },
  {
   "cell_type": "code",
   "execution_count": null,
   "metadata": {},
   "outputs": [],
   "source": [
    "jayun['count'].sum()"
   ]
  }
 ],
 "metadata": {
  "kernelspec": {
   "display_name": "Python 3.9.12 ('base')",
   "language": "python",
   "name": "python3"
  },
  "language_info": {
   "codemirror_mode": {
    "name": "ipython",
    "version": 3
   },
   "file_extension": ".py",
   "mimetype": "text/x-python",
   "name": "python",
   "nbconvert_exporter": "python",
   "pygments_lexer": "ipython3",
   "version": "3.9.12"
  },
  "orig_nbformat": 4,
  "vscode": {
   "interpreter": {
    "hash": "ad2bdc8ecc057115af97d19610ffacc2b4e99fae6737bb82f5d7fb13d2f2c186"
   }
  }
 },
 "nbformat": 4,
 "nbformat_minor": 2
}
